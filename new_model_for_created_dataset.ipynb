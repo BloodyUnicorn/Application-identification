{
  "cells": [
    {
      "cell_type": "markdown",
      "metadata": {
        "id": "view-in-github",
        "colab_type": "text"
      },
      "source": [
        "<a href=\"https://colab.research.google.com/github/BloodyUnicorn/Application-identification/blob/main/new_model_for_created_dataset.ipynb\" target=\"_parent\"><img src=\"https://colab.research.google.com/assets/colab-badge.svg\" alt=\"Open In Colab\"/></a>"
      ]
    },
    {
      "cell_type": "code",
      "execution_count": null,
      "metadata": {
        "colab": {
          "base_uri": "https://localhost:8080/"
        },
        "id": "w_DUBMHZuVXh",
        "outputId": "ea416ac6-b87f-4776-f0fb-afe8452b42df"
      },
      "outputs": [
        {
          "output_type": "stream",
          "name": "stdout",
          "text": [
            "Requirement already satisfied: scapy in /usr/local/lib/python3.7/dist-packages (2.4.5)\n"
          ]
        }
      ],
      "source": [
        "!pip install scapy"
      ]
    },
    {
      "cell_type": "code",
      "execution_count": null,
      "metadata": {
        "id": "6FVOGPeeOnT5"
      },
      "outputs": [],
      "source": [
        "from pathlib import Path\n",
        "import os\n",
        "import os.path\n",
        "from google.colab import drive\n",
        "import numpy as np\n",
        "import pandas as pd\n",
        "from joblib import Parallel, delayed\n",
        "from scapy.compat import raw\n",
        "from scapy.layers.inet import IP, UDP\n",
        "from scapy.layers.l2 import Ether\n",
        "from scapy.packet import Padding\n",
        "from scapy.utils import rdpcap, PcapReader\n",
        "from scipy import sparse\n",
        "from sklearn.model_selection import train_test_split\n",
        "from imblearn.under_sampling import RandomUnderSampler\n",
        "\n",
        "from scapy.layers.dns import DNS\n",
        "from scapy.layers.inet import TCP\n",
        "from scapy.packet import Padding\n",
        "from scapy.utils import rdpcap\n",
        "\n",
        "import torch\n",
        "import torchvision\n",
        "import torchvision.transforms as transforms\n",
        "import torch.nn as nn\n",
        "import torch.nn.functional as F\n",
        "from random import sample\n",
        "import matplotlib.pyplot as plt\n",
        "import seaborn as sn\n",
        "import math\n",
        "import random\n",
        "\n",
        "\n",
        "from torch.utils.data import Dataset, DataLoader, random_split\n",
        "from torch.utils.data.sampler import SubsetRandomSampler\n",
        "from torch.nn import functional as F\n",
        "\n",
        "import time\n",
        "from datetime import timedelta\n",
        "from datetime import datetime\n",
        "import pickle\n",
        "import random\n",
        "from prettytable import PrettyTable"
      ]
    },
    {
      "cell_type": "code",
      "execution_count": null,
      "metadata": {
        "colab": {
          "base_uri": "https://localhost:8080/"
        },
        "id": "LK_9Y1h_vZvH",
        "outputId": "91c8b82a-fd02-4349-d24f-eaa65918a977"
      },
      "outputs": [
        {
          "output_type": "stream",
          "name": "stdout",
          "text": [
            "Drive already mounted at /content/gdrive; to attempt to forcibly remount, call drive.mount(\"/content/gdrive\", force_remount=True).\n",
            "[Errno 2] No such file or directory: 'gdrive/MyDrive/'\n",
            "/content/gdrive/MyDrive\n"
          ]
        }
      ],
      "source": [
        "## Colab setting\n",
        "drive.mount('/content/gdrive')\n",
        "%cd gdrive/MyDrive/"
      ]
    },
    {
      "cell_type": "code",
      "execution_count": null,
      "metadata": {
        "id": "E9zhwgU2-1il"
      },
      "outputs": [],
      "source": [
        "# Call `set_seed` function in the exercises to ensure reproducibility.\n",
        "\n",
        "def set_seed(seed=None, seed_torch=True):\n",
        "  if seed is None:\n",
        "    seed = np.random.choice(2 ** 32)\n",
        "  random.seed(seed)\n",
        "  np.random.seed(seed)\n",
        "  if seed_torch:\n",
        "    torch.manual_seed(seed)\n",
        "    torch.cuda.manual_seed_all(seed)\n",
        "    torch.cuda.manual_seed(seed)\n",
        "    torch.backends.cudnn.benchmark = False\n",
        "    torch.backends.cudnn.deterministic = True\n",
        "\n",
        "  print(f'Random seed {seed} has been set.')\n",
        "\n",
        "\n",
        "# In case that `DataLoader` is used\n",
        "def seed_worker(worker_id):\n",
        "  worker_seed = torch.initial_seed() % 2**32\n",
        "  np.random.seed(worker_seed)\n",
        "  random.seed(worker_seed)\n"
      ]
    },
    {
      "cell_type": "code",
      "execution_count": null,
      "metadata": {
        "colab": {
          "base_uri": "https://localhost:8080/"
        },
        "id": "m9yCDYs9rE5T",
        "outputId": "127ff871-e4ae-469f-d9e5-fc681f5672dc"
      },
      "outputs": [
        {
          "output_type": "stream",
          "name": "stdout",
          "text": [
            "Random seed 2021 has been set.\n"
          ]
        }
      ],
      "source": [
        "SEED = 2021\n",
        "set_seed(seed=SEED)\n"
      ]
    },
    {
      "cell_type": "markdown",
      "metadata": {
        "id": "dtYJn2iJeCtl"
      },
      "source": [
        ""
      ]
    },
    {
      "cell_type": "code",
      "execution_count": null,
      "metadata": {
        "id": "hcBZoPxz7oix"
      },
      "outputs": [],
      "source": [
        "def remove_ether_header(packet):\n",
        "    if Ether in packet:\n",
        "        return packet[Ether].payload\n",
        "\n",
        "    return packet\n",
        "\n",
        "\n",
        "def mask_ip(packet):\n",
        "    if IP in packet:\n",
        "        packet[IP].src = '0.0.0.0'\n",
        "        packet[IP].dst = '0.0.0.0'\n",
        "\n",
        "    return packet\n",
        "\n",
        "\n",
        "def pad_udp(packet):\n",
        "    if UDP in packet:\n",
        "        # get layers after udp\n",
        "        layer_after = packet[UDP].payload.copy()\n",
        "\n",
        "        # build a padding layer\n",
        "        pad = Padding()\n",
        "        pad.load = '\\x00' * 12\n",
        "\n",
        "        layer_before = packet.copy()\n",
        "        layer_before[UDP].remove_payload()\n",
        "        packet = layer_before / pad / layer_after\n",
        "\n",
        "        return packet\n",
        "\n",
        "    return packet\n",
        "\n",
        "\n",
        "def packet_to_sparse_array(packet, max_length=1500):\n",
        "    arr = np.frombuffer(raw(packet), dtype=np.uint8)[0: max_length]     # Divide to 255 later\n",
        "    if len(arr) < max_length:\n",
        "        pad_width = max_length - len(arr)\n",
        "        arr = np.pad(arr, pad_width=(0, pad_width), constant_values=0)\n",
        "\n",
        "    arr = sparse.csr_matrix(arr)\n",
        "    return arr\n",
        "\n",
        "\n",
        "def should_omit_packet(packet):\n",
        "    # SYN, ACK or FIN flags set to 1 and no payload\n",
        "    if TCP in packet and (packet.flags & 0x13):\n",
        "        # not payload or contains only padding\n",
        "        layers = packet[TCP].payload.layers()\n",
        "        if not layers or (Padding in layers and len(layers) == 1):\n",
        "            return True\n",
        "\n",
        "    # DNS segment\n",
        "    if DNS in packet:\n",
        "        return True\n",
        "\n",
        "    return False\n",
        "\n",
        "\n",
        "def transform_packet(packet):\n",
        "    if should_omit_packet(packet):\n",
        "        return None\n",
        "\n",
        "    packet = remove_ether_header(packet)\n",
        "    packet = pad_udp(packet)\n",
        "    packet = mask_ip(packet)\n",
        "\n",
        "    arr = packet_to_sparse_array(packet)\n",
        "\n",
        "    return arr"
      ]
    },
    {
      "cell_type": "code",
      "execution_count": null,
      "metadata": {
        "id": "dcObkTP151Y0"
      },
      "outputs": [],
      "source": [
        "# for app identification\n",
        "PREFIX_TO_APP_ID = {\n",
        "    # Digikala\n",
        "    'aparat': 0,\n",
        "    'digikalanew2': 0,\n",
        "    'digikalanew3': 0,\n",
        "    'digikalanew4': 0,\n",
        "    # # Filimo\n",
        "    'filimo': 1,\n",
        "    'filimo2': 1,\n",
        "    'filimo3': 1,\n",
        "    'filimo4': 1,\n",
        "    # Aparat\n",
        "    # 'aparat': 1,\n",
        "    # 'aparat1': 1,\n",
        "    # 'aparat2': 1,\n",
        "    # 'aparat3': 1,\n",
        "}\n",
        "\n",
        "ID_TO_APP = {\n",
        "    # 0: 'Aparat',\n",
        "    0: 'Aparat',\n",
        "    1: 'Filimo',\n",
        "    # 1 : 'Aparat',\n",
        "}\n",
        "\n"
      ]
    },
    {
      "cell_type": "code",
      "execution_count": null,
      "metadata": {
        "id": "N5Ee7hYt8wI3"
      },
      "outputs": [],
      "source": [
        "# # for app identification\n",
        "# PREFIX_TO_APP_ID = {\n",
        "#     # 'email': 0,\n",
        "#     'email': 0,\n",
        "#     # Aimchat\n",
        "#     'aimchat': 1,\n",
        "#     'aimchat1': 1,\n",
        "# #     # Facebook\n",
        "# #     'facebook_audio1a': 2,\n",
        "# #     'facebook_audio1b': 2,\n",
        "# #     'facebook_audio2a': 2,\n",
        "# #     'facebook_audio2b': 2,\n",
        "# #     'facebook_audio3': 2,\n",
        "# #     'facebook_audio4': 2,\n",
        "# #     'facebook_chat_4a': 2,\n",
        "# #     'facebook_chat_4b': 2,\n",
        "# #     'facebook_video1a': 2,\n",
        "# #     'facebook_video1b': 2,\n",
        "# #     'facebook_video2a': 2,\n",
        "# #     'facebook_video2b': 2,\n",
        "# #     'facebookchat1': 2,\n",
        "# #     'facebookchat2': 2,\n",
        "# #     'facebookchat3': 2,\n",
        "# }\n",
        "\n",
        "# ID_TO_APP = {\n",
        "#     0: 'Email',\n",
        "#     1: 'Aimchat',\n",
        "#     # 2: 'Facebook'\n",
        "# }\n",
        "\n"
      ]
    },
    {
      "cell_type": "code",
      "execution_count": null,
      "metadata": {
        "id": "idXFImZ_0kQZ"
      },
      "outputs": [],
      "source": [
        "pcaps = 'Created_Dataset/Pcaps/'\n",
        "if not os.path.exists(os.path.dirname(pcaps)):\n",
        "   os.makedirs(os.path.dirname(pcaps))"
      ]
    },
    {
      "cell_type": "code",
      "execution_count": null,
      "metadata": {
        "id": "rox5umDd113h"
      },
      "outputs": [],
      "source": [
        "cache = 'Created_Dataset/Dataset/dataset.pickle'\n",
        "if not os.path.exists(os.path.dirname(cache)):\n",
        "   os.makedirs(os.path.dirname(cache))\n",
        "dataset = []"
      ]
    },
    {
      "cell_type": "code",
      "execution_count": null,
      "metadata": {
        "id": "9mYki2YpoOu8",
        "colab": {
          "base_uri": "https://localhost:8080/"
        },
        "outputId": "63997033-102d-47bb-de31-ffebf5db01e3"
      },
      "outputs": [
        {
          "output_type": "stream",
          "name": "stdout",
          "text": [
            "Processing filimo.pcap\n",
            "Processing aparat.pcap\n"
          ]
        }
      ],
      "source": [
        "if not os.path.isfile(cache):\n",
        "    for path in os.listdir(pcaps):\n",
        "        print('Processing ' + path)\n",
        "        for i, packet in enumerate(rdpcap(pcaps + path)):\n",
        "            arr = transform_packet(packet)\n",
        "            if arr is not None:\n",
        "                # get labels for app identification\n",
        "                prefix = path.split('.')[0].lower()\n",
        "                app_label = PREFIX_TO_APP_ID.get(prefix)\n",
        "                row = {\n",
        "                    'app_label': app_label,\n",
        "                    'feature': arr.todense().tolist()[0]\n",
        "                }\n",
        "                dataset.append(row)\n",
        "    \n",
        "    with open(cache, 'wb') as f:\n",
        "        pickle.dump(dataset, f)\n",
        "else:\n",
        "    dataset = []\n",
        "    # data_dir = 'drive/MyDrive/deep_packet/Dataset/'\n",
        "    # for path in os.listdir(data_dir):\n",
        "    #     with open(data_dir + path, 'rb') as f:\n",
        "    #         dataset.extend(pickle.load(f))\n",
        "    with (open(cache, \"rb\")) as f:\n",
        "        dataset.extend(pickle.load(f))\n",
        "        \n",
        "\n",
        "# pprint(dataset)"
      ]
    },
    {
      "cell_type": "code",
      "execution_count": null,
      "metadata": {
        "id": "Z_7sILA03PZF"
      },
      "outputs": [],
      "source": [
        "# from pprint import pprint\n",
        "# objects = []\n",
        "# data_dir = 'drive/MyDrive/Created_dataset/Dataset/'\n",
        "# with (open(cache, \"rb\")) as openfile:\n",
        "#     while True:\n",
        "#         try:\n",
        "#             objects.append(pickle.load(openfile))\n",
        "#         except EOFError:\n",
        "#             break\n",
        "        \n",
        "# pprint(objects)"
      ]
    },
    {
      "cell_type": "code",
      "execution_count": null,
      "metadata": {
        "id": "TCmHeI5-Mi9_"
      },
      "outputs": [],
      "source": [
        "app_labels = [row['app_label'] for row in dataset]\n",
        "app_classes = set(app_labels)\n",
        "app_train_all, app_test_all = train_test_split(dataset, test_size=0.2, random_state=42, stratify=app_labels)\n",
        "\n",
        "del dataset"
      ]
    },
    {
      "cell_type": "code",
      "execution_count": null,
      "metadata": {
        "id": "jm72CRLPPiUX"
      },
      "outputs": [],
      "source": [
        "# undersample = RandomUnderSampler(sampling_strategy='majority')\n",
        "# app_features = [elem['feature'] for elem in app_train_all]\n",
        "# print(len(app_features))\n",
        "# train_app_labels = [elem['app_label'] for elem in app_train_all]\n",
        "# print(len(train_app_labels))\n",
        "# app_train, app_y = undersample.fit_resample(app_features, train_app_labels)\n",
        "# print(len(app_train))\n",
        "# del app_features, train_app_labels, app_train_all"
      ]
    },
    {
      "cell_type": "code",
      "execution_count": null,
      "metadata": {
        "id": "_6EJZH1ISHQJ"
      },
      "outputs": [],
      "source": [
        "app_train_final = [{'feature': torch.from_numpy(np.array([a/255.0 for a in elem['feature']], dtype=np.float32)), 'label': elem['app_label']} for elem in app_train_all]\n",
        "del app_train_all\n",
        "app_test_final = [{'feature': torch.from_numpy(np.array([a/255.0 for a in elem['feature']], dtype=np.float32)), 'label': elem['app_label']} for elem in app_test_all]\n",
        "del app_test_all"
      ]
    },
    {
      "cell_type": "code",
      "execution_count": null,
      "metadata": {
        "colab": {
          "base_uri": "https://localhost:8080/"
        },
        "id": "AaSXdFLNczhw",
        "outputId": "ce9733ef-81a5-4a00-f5bd-e7bfb1baa94f"
      },
      "outputs": [
        {
          "output_type": "stream",
          "name": "stdout",
          "text": [
            "<class 'list'>\n",
            "15499\n"
          ]
        }
      ],
      "source": [
        "print(type(app_train_final))\n",
        "print(len(app_train_final))"
      ]
    },
    {
      "cell_type": "code",
      "execution_count": null,
      "metadata": {
        "id": "k_-8K3xeEG2a"
      },
      "outputs": [],
      "source": [
        "batch_size = 64\n",
        "num_workers = 2\n",
        "\n",
        "app_train_loader = torch.utils.data.DataLoader(app_train_final, batch_size=batch_size, num_workers=num_workers)\n",
        "app_test_loader = torch.utils.data.DataLoader(app_test_final, batch_size=batch_size, num_workers=num_workers)"
      ]
    },
    {
      "cell_type": "code",
      "execution_count": null,
      "metadata": {
        "id": "4g680hY2jwp0"
      },
      "outputs": [],
      "source": [
        "# class Net(nn.Module):\n",
        "    \n",
        "#     def __init__(self):\n",
        "#         super(Net,self).__init__()\n",
        "#         self.fc1 = nn.Linear(1, 50)\n",
        "#         self.relu1 = nn.ReLU()\n",
        "#         self.dout = nn.Dropout(0.2)\n",
        "#         self.fc2 = nn.Linear(50, 100)\n",
        "#         self.prelu = nn.PReLU(1)\n",
        "#         self.out = nn.Linear(100, 1)\n",
        "#         self.out_act = nn.Sigmoid()\n",
        "        \n",
        "#     def forward(self, input_):\n",
        "#         a1 = self.fc1(input_)\n",
        "#         h1 = self.relu1(a1)\n",
        "#         dout = self.dout(h1)\n",
        "#         a2 = self.fc2(dout)\n",
        "#         h2 = self.prelu(a2)\n",
        "#         a3 = self.out(h2)\n",
        "#         y = self.out_act(a3)\n",
        "#         return y\n",
        "    \n",
        "# net = Net()\n",
        "# opt = torch.optim.Adam(net.parameters(), lr=0.001, betas=(0.9, 0.999))\n",
        "# criterion = nn.BCELoss()"
      ]
    },
    {
      "cell_type": "markdown",
      "metadata": {
        "id": "6uiGeORfCJlm"
      },
      "source": [
        "## CNN Model"
      ]
    },
    {
      "cell_type": "code",
      "execution_count": null,
      "metadata": {
        "id": "Eqk6k6yMgPrw"
      },
      "outputs": [],
      "source": [
        "class ConvNet(nn.Module):\n",
        "  def __init__(self):\n",
        "      super(ConvNet,self).__init__()\n",
        "      \n",
        "\n",
        "      self.conv1 = nn.Sequential( \n",
        "                        nn.Conv1d(\n",
        "                            in_channels=1,\n",
        "                            out_channels=100,\n",
        "                            kernel_size=5, \n",
        "                            stride=3, \n",
        "                            padding = 0) \n",
        "                        \n",
        "                        ,nn.ReLU()\n",
        "      )\n",
        "      \n",
        "      self.conv2 = nn.Sequential (\n",
        "                        nn.Conv1d(\n",
        "                            in_channels = 100,\n",
        "                            out_channels = 200,\n",
        "                            kernel_size = 5, \n",
        "                            stride = 1, \n",
        "                            padding = 0)\n",
        "                        \n",
        "                        ,nn.ReLU()\n",
        "      )\n",
        "\n",
        "      self.maxpool = nn.MaxPool1d(2)\n",
        "\n",
        "      # use a dummy input to calculate\n",
        "      random_input = torch.rand(1, 1, 1500 , requires_grad=False)\n",
        "      random_input = self.conv1(random_input)\n",
        "      random_input = self.conv2(random_input)\n",
        "      random_input = self.maxpool(random_input)\n",
        "      maxpool_out = random_input.view(1, -1).shape[1]\n",
        "\n",
        "      self.fc1 = nn.Sequential(\n",
        "            nn.Linear(\n",
        "                in_features= maxpool_out,\n",
        "                out_features=100\n",
        "            ),\n",
        "            nn.Dropout(p=0.05),\n",
        "            nn.ReLU()\n",
        "        )\n",
        "      \n",
        "\n",
        "      self.fc2 = nn.Sequential(\n",
        "            nn.Linear(\n",
        "                in_features=100,\n",
        "                out_features=50\n",
        "            ),\n",
        "            nn.Dropout(p=0.05),\n",
        "            nn.ReLU()\n",
        "        )\n",
        "\n",
        "\n",
        "      self.fc3 = nn.Sequential(\n",
        "            nn.Linear(\n",
        "                in_features=50,\n",
        "                out_features=25\n",
        "            ),\n",
        "            nn.Dropout(p=0.05),\n",
        "            nn.ReLU()\n",
        "        )\n",
        "      \n",
        "      # self.fc4 = nn.Sequential(\n",
        "      #       nn.Linear(\n",
        "      #           in_features=50,\n",
        "      #           out_features=25\n",
        "      #       ),\n",
        "      #       nn.Dropout(p=0.05),\n",
        "      #       nn.ReLU()\n",
        "      #   )\n",
        "      \n",
        "      self.lastlayer = nn.Linear(\n",
        "            in_features=25,\n",
        "            out_features=2\n",
        "        )\n",
        "  def forward(self,x):\n",
        "\n",
        "      #adding 1 dimention\n",
        "      x = x.unsqueeze(1)\n",
        "\n",
        "      #conv layers\n",
        "      x = self.conv1(x)\n",
        "      x = self.conv2(x)\n",
        "      x = self.maxpool(x)\n",
        "\n",
        "      #flatten\n",
        "      # x = torch.flatten(x,1)\n",
        "      # x = x.view(x.size()[0], -1)\n",
        "      x = x.reshape(x.shape[0], -1)\n",
        "      # x = x.view(x.size(0), -1)\n",
        "      # print(x.shape)\n",
        "\n",
        "      #3fc\n",
        "      x = self.fc1(x)\n",
        "      x = self.fc2(x)\n",
        "      x = self.fc3(x)\n",
        "      # x = self.fc4(x)\n",
        "\n",
        "      #output\n",
        "      x = self.lastlayer(x)\n",
        "\n",
        "      return x"
      ]
    },
    {
      "cell_type": "code",
      "execution_count": null,
      "metadata": {
        "colab": {
          "base_uri": "https://localhost:8080/"
        },
        "id": "mKtWWunavJ47",
        "outputId": "88589f27-39f4-477d-9370-08fabfb83251"
      },
      "outputs": [
        {
          "output_type": "stream",
          "name": "stdout",
          "text": [
            "cuda\n"
          ]
        }
      ],
      "source": [
        "device = torch.device('cuda' if torch.cuda.is_available() else 'cpu')\n",
        "print(device)"
      ]
    },
    {
      "cell_type": "markdown",
      "metadata": {
        "id": "AfGqIfJPmQFe"
      },
      "source": [
        "## Train and Test"
      ]
    },
    {
      "cell_type": "code",
      "execution_count": null,
      "metadata": {
        "id": "OBLUJFWCqd2s"
      },
      "outputs": [],
      "source": [
        "#Az inja be baad kamel beshe "
      ]
    },
    {
      "cell_type": "code",
      "execution_count": null,
      "metadata": {
        "id": "AvcYjYmFpOsW"
      },
      "outputs": [],
      "source": [
        "# def binary_acc(y_pred, y_test):\n",
        "#     y_pred_tag = torch.round(torch.sigmoid(y_pred))\n",
        "\n",
        "#     correct_results_sum = (y_pred_tag == y_test).sum().float()\n",
        "#     acc = correct_results_sum/y_test.shape[0]\n",
        "#     acc = torch.round(acc * 100)\n",
        "    \n",
        "#     return acc"
      ]
    },
    {
      "cell_type": "code",
      "execution_count": null,
      "metadata": {
        "id": "UIqST0CWhDD-"
      },
      "outputs": [],
      "source": [
        "# def Training(model, train_loader, criterion, optimizer, epochs):\n",
        "\n",
        "#   train_losses  = [] \n",
        "#   Acc =[]\n",
        "\n",
        "#   for epoch in range(epochs):\n",
        "\n",
        "#       epoch_accuracy =  0\n",
        "#       total_correct = 0\n",
        "#       train_loss = 0\n",
        "#       total_pcaps = 0\n",
        "\n",
        "#       model.train()\n",
        "#       for elem in train_loader:\n",
        "\n",
        "#           pcap_byte = elem['feature'].to(device)\n",
        "          \n",
        "\n",
        "#           labels = elem['label'].to(device)\n",
        "          \n",
        "          \n",
        "#           # Clear gradients w.r.t. parameters\n",
        "#           optimizer.zero_grad()\n",
        "\n",
        "#           # Forward pass to get output/logits\n",
        "#           outputs = model(pcap_byte)\n",
        "\n",
        "#           # Calculate Loss\n",
        "#           loss = criterion(outputs, labels.unsqueeze(1).float())\n",
        "\n",
        "#           # Getting gradients w.r.t. parameters\n",
        "#           loss.backward()\n",
        "\n",
        "#           # Updating parameters\n",
        "#           optimizer.step()\n",
        "          \n",
        "#           total_pcaps += labels.size(0)\n",
        "\n",
        "#           # Obtaining predictions from max value\n",
        "#           # _, predicted = torch.max(outputs.data, 1)\n",
        "#           acc = binary_acc(outputs, labels.unsqueeze(1).float())\n",
        "\n",
        "#           # # Calculate the number of correct answers\n",
        "#           # correct = (predicted == labels).sum().item()\n",
        "\n",
        "#           train_loss += loss.item()\n",
        "#           # total_correct += correct\n",
        "\n",
        "#       epoch_accuracy += acc.item()\n",
        "#       Acc.append(epoch_accuracy)\n",
        "#       average_loss = train_loss / len(train_loader)\n",
        "#       train_losses.append(train_loss)\n",
        "#       print('epoch %d, train_loss: %.3f' % (epoch + 1, average_loss))\n",
        "      \n",
        "\n",
        "\n",
        "#   # Accuracy = ((total_correct / total_pcaps) * 100)\n",
        "#   # print('Training Accuracy: %.3f' % (Accuracy))\n",
        "#   plt.plot(np.arange(len(train_losses)), train_losses, 'r')\n",
        "#   plt.xlabel('Epoch')\n",
        "#   plt.ylabel('Train Loss')\n",
        "#   plt.show()\n",
        "  \n",
        "\n",
        "#   plt.plot(np.arange(len(Acc)), Acc, 'b')\n",
        "#   plt.xlabel('Epoch')\n",
        "#   plt.ylabel('Accuracy')\n",
        "#   plt.show()"
      ]
    },
    {
      "cell_type": "code",
      "execution_count": null,
      "metadata": {
        "id": "5MZqz9fRtT6c"
      },
      "outputs": [],
      "source": [
        "def Training(model, train_loader, criterion, optimizer, epochs):\n",
        "\n",
        "  train_losses  = [] \n",
        "  Acc =[]\n",
        "\n",
        "  for epoch in range(epochs):\n",
        "\n",
        "      epoch_accuracy =  0\n",
        "      total_correct = 0\n",
        "      train_loss = 0\n",
        "      total_pcaps = 0\n",
        "\n",
        "      model.train()\n",
        "      for elem in train_loader:\n",
        "\n",
        "          pcap_byte = elem['feature'].to(device)\n",
        "          \n",
        "\n",
        "          labels = elem['label'].to(device)\n",
        "          \n",
        "          \n",
        "          # Clear gradients w.r.t. parameters\n",
        "          optimizer.zero_grad()\n",
        "\n",
        "          # Forward pass to get output/logits\n",
        "          outputs = model(pcap_byte)\n",
        "\n",
        "          # Calculate Loss\n",
        "          loss = criterion(outputs, labels)\n",
        "\n",
        "          # Getting gradients w.r.t. parameters\n",
        "          loss.backward()\n",
        "\n",
        "          # Updating parameters\n",
        "          optimizer.step()\n",
        "          \n",
        "          total_pcaps += labels.size(0)\n",
        "\n",
        "          # Obtaining predictions from max value\n",
        "          _, predicted = torch.max(outputs.data, 1)\n",
        "\n",
        "\n",
        "          # Calculate the number of correct answers\n",
        "          correct = (predicted == labels).sum().item()\n",
        "\n",
        "          train_loss += loss.item()\n",
        "          total_correct += correct\n",
        "\n",
        "      epoch_accuracy = ((total_correct / total_pcaps) * 100)\n",
        "      Acc.append(epoch_accuracy)\n",
        "      average_loss = train_loss / len(train_loader)\n",
        "      train_losses.append(train_loss)\n",
        "      print('epoch %d, train_loss: %.3f' % (epoch + 1, average_loss))\n",
        "      \n",
        "\n",
        "\n",
        "  Accuracy = ((total_correct / total_pcaps) * 100)\n",
        "  print('Training Accuracy: %.3f' % (Accuracy))\n",
        "  plt.plot(np.arange(len(train_losses)), train_losses, 'r')\n",
        "  plt.xlabel('Epoch')\n",
        "  plt.ylabel('Train Loss')\n",
        "  plt.show()\n",
        "  \n",
        "\n",
        "  plt.plot(np.arange(len(Acc)), Acc, 'b')\n",
        "  plt.xlabel('Epoch')\n",
        "  plt.ylabel('Accuracy')\n",
        "  plt.show()"
      ]
    },
    {
      "cell_type": "code",
      "execution_count": null,
      "metadata": {
        "colab": {
          "base_uri": "https://localhost:8080/"
        },
        "id": "MYVNhPYYg2pX",
        "outputId": "d9acb0b4-569a-4951-cec8-68a1a36fdc13"
      },
      "outputs": [
        {
          "output_type": "stream",
          "name": "stdout",
          "text": [
            "ConvNet(\n",
            "  (conv1): Sequential(\n",
            "    (0): Conv1d(1, 100, kernel_size=(5,), stride=(3,))\n",
            "    (1): ReLU()\n",
            "  )\n",
            "  (conv2): Sequential(\n",
            "    (0): Conv1d(100, 200, kernel_size=(5,), stride=(1,))\n",
            "    (1): ReLU()\n",
            "  )\n",
            "  (maxpool): MaxPool1d(kernel_size=2, stride=2, padding=0, dilation=1, ceil_mode=False)\n",
            "  (fc1): Sequential(\n",
            "    (0): Linear(in_features=49400, out_features=100, bias=True)\n",
            "    (1): Dropout(p=0.05, inplace=False)\n",
            "    (2): ReLU()\n",
            "  )\n",
            "  (fc2): Sequential(\n",
            "    (0): Linear(in_features=100, out_features=50, bias=True)\n",
            "    (1): Dropout(p=0.05, inplace=False)\n",
            "    (2): ReLU()\n",
            "  )\n",
            "  (fc3): Sequential(\n",
            "    (0): Linear(in_features=50, out_features=25, bias=True)\n",
            "    (1): Dropout(p=0.05, inplace=False)\n",
            "    (2): ReLU()\n",
            "  )\n",
            "  (lastlayer): Linear(in_features=25, out_features=2, bias=True)\n",
            ")\n"
          ]
        }
      ],
      "source": [
        "model = ConvNet().to(device)\n",
        "learning_rate = 0.001\n",
        "optimizer = torch.optim.SGD(model.parameters(), lr = learning_rate ) \n",
        "criterion = nn.CrossEntropyLoss()\n",
        "print(model)"
      ]
    },
    {
      "cell_type": "markdown",
      "metadata": {
        "id": "N7njrkIzfd8D"
      },
      "source": [
        "## Iterations"
      ]
    },
    {
      "cell_type": "code",
      "execution_count": null,
      "metadata": {
        "id": "J7Gv6oDguJ9i",
        "colab": {
          "base_uri": "https://localhost:8080/",
          "height": 1000
        },
        "outputId": "7c3ca3e6-1ca1-444e-8959-8d217f010694"
      },
      "outputs": [
        {
          "output_type": "stream",
          "name": "stdout",
          "text": [
            "epoch 1, train_loss: 0.666\n",
            "epoch 2, train_loss: 0.648\n",
            "epoch 3, train_loss: 0.641\n",
            "epoch 4, train_loss: 0.641\n",
            "epoch 5, train_loss: 0.640\n",
            "epoch 6, train_loss: 0.639\n",
            "epoch 7, train_loss: 0.639\n",
            "epoch 8, train_loss: 0.638\n",
            "epoch 9, train_loss: 0.638\n",
            "epoch 10, train_loss: 0.638\n",
            "epoch 11, train_loss: 0.637\n",
            "epoch 12, train_loss: 0.636\n",
            "epoch 13, train_loss: 0.636\n",
            "epoch 14, train_loss: 0.635\n",
            "epoch 15, train_loss: 0.635\n",
            "epoch 16, train_loss: 0.635\n",
            "epoch 17, train_loss: 0.634\n",
            "epoch 18, train_loss: 0.634\n",
            "epoch 19, train_loss: 0.633\n",
            "epoch 20, train_loss: 0.632\n",
            "epoch 21, train_loss: 0.632\n",
            "epoch 22, train_loss: 0.631\n",
            "epoch 23, train_loss: 0.630\n",
            "epoch 24, train_loss: 0.629\n",
            "epoch 25, train_loss: 0.628\n",
            "epoch 26, train_loss: 0.628\n",
            "epoch 27, train_loss: 0.627\n",
            "epoch 28, train_loss: 0.626\n",
            "epoch 29, train_loss: 0.625\n",
            "epoch 30, train_loss: 0.624\n",
            "epoch 31, train_loss: 0.622\n",
            "epoch 32, train_loss: 0.621\n",
            "epoch 33, train_loss: 0.620\n",
            "epoch 34, train_loss: 0.618\n",
            "epoch 35, train_loss: 0.618\n",
            "epoch 36, train_loss: 0.616\n",
            "epoch 37, train_loss: 0.614\n",
            "epoch 38, train_loss: 0.613\n",
            "epoch 39, train_loss: 0.611\n",
            "epoch 40, train_loss: 0.609\n",
            "epoch 41, train_loss: 0.607\n",
            "epoch 42, train_loss: 0.606\n",
            "epoch 43, train_loss: 0.602\n",
            "epoch 44, train_loss: 0.599\n",
            "epoch 45, train_loss: 0.598\n",
            "epoch 46, train_loss: 0.594\n",
            "epoch 47, train_loss: 0.590\n",
            "epoch 48, train_loss: 0.586\n",
            "epoch 49, train_loss: 0.581\n",
            "epoch 50, train_loss: 0.575\n",
            "epoch 51, train_loss: 0.569\n",
            "epoch 52, train_loss: 0.561\n",
            "epoch 53, train_loss: 0.553\n",
            "epoch 54, train_loss: 0.542\n",
            "epoch 55, train_loss: 0.531\n",
            "epoch 56, train_loss: 0.518\n",
            "epoch 57, train_loss: 0.504\n",
            "epoch 58, train_loss: 0.489\n",
            "epoch 59, train_loss: 0.472\n",
            "epoch 60, train_loss: 0.455\n",
            "epoch 61, train_loss: 0.437\n",
            "epoch 62, train_loss: 0.417\n",
            "epoch 63, train_loss: 0.394\n",
            "epoch 64, train_loss: 0.370\n",
            "epoch 65, train_loss: 0.345\n",
            "epoch 66, train_loss: 0.322\n",
            "epoch 67, train_loss: 0.300\n",
            "epoch 68, train_loss: 0.279\n",
            "epoch 69, train_loss: 0.259\n",
            "epoch 70, train_loss: 0.242\n",
            "epoch 71, train_loss: 0.224\n",
            "epoch 72, train_loss: 0.208\n",
            "epoch 73, train_loss: 0.190\n",
            "epoch 74, train_loss: 0.176\n",
            "epoch 75, train_loss: 0.161\n",
            "epoch 76, train_loss: 0.146\n",
            "epoch 77, train_loss: 0.137\n",
            "epoch 78, train_loss: 0.125\n",
            "epoch 79, train_loss: 0.112\n",
            "epoch 80, train_loss: 0.105\n",
            "epoch 81, train_loss: 0.099\n",
            "epoch 82, train_loss: 0.094\n",
            "epoch 83, train_loss: 0.085\n",
            "epoch 84, train_loss: 0.081\n",
            "epoch 85, train_loss: 0.077\n",
            "epoch 86, train_loss: 0.073\n",
            "epoch 87, train_loss: 0.069\n",
            "epoch 88, train_loss: 0.067\n",
            "epoch 89, train_loss: 0.064\n",
            "epoch 90, train_loss: 0.061\n",
            "epoch 91, train_loss: 0.059\n",
            "epoch 92, train_loss: 0.058\n",
            "epoch 93, train_loss: 0.055\n",
            "epoch 94, train_loss: 0.055\n",
            "epoch 95, train_loss: 0.053\n",
            "epoch 96, train_loss: 0.052\n",
            "epoch 97, train_loss: 0.049\n",
            "epoch 98, train_loss: 0.049\n",
            "epoch 99, train_loss: 0.047\n",
            "epoch 100, train_loss: 0.046\n",
            "Training Accuracy: 98.742\n"
          ]
        },
        {
          "output_type": "display_data",
          "data": {
            "image/png": "[encoded data removed]",
            "text/plain": [
              "<Figure size 432x288 with 1 Axes>"
            ]
          },
          "metadata": {
            "needs_background": "light"
          }
        },
        {
          "output_type": "display_data",
          "data": {
            "image/png": "[encoded data removed]",
            "text/plain": [
              "<Figure size 432x288 with 1 Axes>"
            ]
          },
          "metadata": {
            "needs_background": "light"
          }
        }
      ],
      "source": [
        "Training(model,app_train_loader,criterion,optimizer,100)"
      ]
    },
    {
      "cell_type": "code",
      "execution_count": null,
      "metadata": {
        "id": "mK-SAGbxRvsv"
      },
      "outputs": [],
      "source": [
        "def test_model_accuracy(model, test_loader, classes):\n",
        "    # Calculate Accuracy         \n",
        "    correct = 0.\n",
        "    total = 0.\n",
        "    correct_predicted = {id : 0 for id in range(len(classes))}\n",
        "    num_of_labels = {id : 0 for id in range(len(classes))}\n",
        "    all_predicted = {id : 0 for id in range(len(classes))}\n",
        "    confusion = [ [0] * len(classes) for _ in range(len(classes))]\n",
        "\n",
        "    # Iterate through test dataset\n",
        "    with torch.no_grad():\n",
        "      for elem in test_loader:\n",
        "        byte_array = elem['feature'].to(device)\n",
        "        labels = elem['label']\n",
        "        outputs = model(byte_array)\n",
        "        _, predicted = torch.max(outputs.data, 1)\n",
        "        total += labels.size(0)\n",
        "\n",
        "        for p, l in zip(predicted, labels):\n",
        "            num_of_labels[l.item()] += 1\n",
        "            pc = p.to('cpu').item()\n",
        "            all_predicted[pc] += 1\n",
        "            confusion[l][pc] += 1\n",
        "\n",
        "            if p == l:\n",
        "                correct_predicted[pc] += 1\n",
        "\n",
        "        correct += (predicted.to('cpu') == labels).sum().item()\n",
        "\n",
        "    accuracy = 100 * correct / total\n",
        "    print('Accuracy: {}%'.format(accuracy))\n",
        "    return confusion, [x / y if y else 0 for x, y in zip(correct_predicted.values(), all_predicted.values())], [x / y if y else 0 for x, y in zip(correct_predicted.values(), num_of_labels.values())]"
      ]
    },
    {
      "cell_type": "code",
      "execution_count": null,
      "metadata": {
        "id": "EZWdvJNsZn85"
      },
      "outputs": [],
      "source": [
        "def analyse(model, train_loader, test_loader, classes, task):\n",
        "    print('Train ', end='')\n",
        "    _, train_rcs, train_prs = test_model_accuracy(model, train_loader, classes)\n",
        "    print('Test ', end='')\n",
        "    confusion, test_rcs, test_prs = test_model_accuracy(model, test_loader, classes)\n",
        "    test_f1 = []\n",
        "    table = PrettyTable(['Class', 'Rc', 'Pr', 'F1'])\n",
        "\n",
        "    for i, (rc, pr) in enumerate(zip(test_rcs, test_prs)):\n",
        "        f1 = 2 * rc * pr / (rc + pr) if (rc + pr) else 0\n",
        "        test_f1.append(f1)\n",
        "        class_name = ID_TO_TRAFFIC.get(classes[i]) if task == 'traffic' else ID_TO_APP.get(classes[i])\n",
        "        table.add_row([class_name, str(round(rc, 3)), str(round(pr, 3)), str(round(f1, 3))])\n",
        "\n",
        "    np_rcs = np.array(test_rcs)\n",
        "    rc_avg = np_rcs[np.nonzero(np_rcs)].mean()\n",
        "    np_prs = np.array(test_prs)\n",
        "    pr_avg = np_prs[np.nonzero(np_prs)].mean()\n",
        "    np_f1s = np.array(test_f1)\n",
        "    f1_avg = np_f1s[np.nonzero(np_f1s)].mean()\n",
        "    table.add_row(['Available Classes Avg', str(round(rc_avg, 3)), str(round(pr_avg, 3)), str(round(f1_avg, 3))])\n",
        "    print(table)\n",
        "\n",
        "    class_names = [ID_TO_TRAFFIC.get(c) if task == 'traffic' else ID_TO_APP.get(c) for c in classes]\n",
        "    plt.figure(figsize=(30, 9), dpi= 80, facecolor='w', edgecolor='k')\n",
        "    plt.bar([i - 0.1 for i in range(len(classes))], train_prs, width=0.2, label='Train')\n",
        "    plt.bar([i + 0.1 for i in range(len(classes))], test_prs, width=0.2, label='Test')\n",
        "    plt.legend()\n",
        "    plt.xlim(-0.2, len(classes))\n",
        "    plt.xticks(list(range(len(classes))), class_names, rotation='vertical')\n",
        "    plt.title('Comparision Between Test and Train Accuracies')\n",
        "    plt.xlabel('Category')\n",
        "    plt.ylabel('Accuracy')\n",
        "    plt.show()\n",
        "\n",
        "    df_cm = pd.DataFrame(confusion, index = [i for i in class_names], columns = [i for i in class_names])\n",
        "    plt.figure(figsize = (15,10))\n",
        "    sn.heatmap(df_cm, annot=True)"
      ]
    },
    {
      "cell_type": "code",
      "execution_count": null,
      "metadata": {
        "id": "m7Fhr7hYQuaP",
        "colab": {
          "base_uri": "https://localhost:8080/"
        },
        "outputId": "2585fcbf-cbc8-48ba-9573-d3ccf893ddc8"
      },
      "outputs": [
        {
          "output_type": "stream",
          "name": "stdout",
          "text": [
            "['Aparat', 'Filimo']\n"
          ]
        }
      ],
      "source": [
        "app_labels = []\n",
        "for i in sorted(list(ID_TO_APP.keys())):\n",
        "    app_labels.append(ID_TO_APP[i])\n",
        "\n",
        "print(app_labels)"
      ]
    },
    {
      "cell_type": "code",
      "execution_count": null,
      "metadata": {
        "id": "hfgZNJq0nbch",
        "colab": {
          "base_uri": "https://localhost:8080/"
        },
        "outputId": "f46f4f5b-042d-443d-f1f6-f74e39c97e12"
      },
      "outputs": [
        {
          "output_type": "stream",
          "name": "stdout",
          "text": [
            "Accuracy: 98.58064516129032%\n"
          ]
        }
      ],
      "source": [
        "correct = 0.\n",
        "total = 0.\n",
        "model.eval()\n",
        "with torch.no_grad():\n",
        "      for elem in app_test_loader:\n",
        "        byte_array = elem['feature'].to(device)\n",
        "        labels = elem['label'].to(device)\n",
        "        outputs = model(byte_array)\n",
        "        _, predicted = torch.max(outputs.data, 1)\n",
        "        total += labels.size(0)\n",
        "        correct += (predicted == labels).sum().item()\n",
        "\n",
        "accuracy = 100 * correct / total\n",
        "print('Accuracy: {}%'.format(accuracy))"
      ]
    },
    {
      "cell_type": "code",
      "execution_count": null,
      "metadata": {
        "id": "KN8318FztwKV",
        "colab": {
          "base_uri": "https://localhost:8080/",
          "height": 1000
        },
        "outputId": "13917975-83dc-4e37-dfb5-0c67203c2fff"
      },
      "outputs": [
        {
          "output_type": "stream",
          "name": "stdout",
          "text": [
            "Train Accuracy: 98.88379895477128%\n",
            "Test Accuracy: 98.58064516129032%\n",
            "+-----------------------+-------+-------+-------+\n",
            "|         Class         |   Rc  |   Pr  |   F1  |\n",
            "+-----------------------+-------+-------+-------+\n",
            "|         Aparat        | 0.983 | 0.974 | 0.978 |\n",
            "|         Filimo        | 0.987 | 0.992 | 0.989 |\n",
            "| Available Classes Avg | 0.985 | 0.983 | 0.984 |\n",
            "+-----------------------+-------+-------+-------+\n"
          ]
        },
        {
          "output_type": "display_data",
          "data": {
            "image/png": "[encoded data removed]",
            "text/plain": [
              "<Figure size 2400x720 with 1 Axes>"
            ]
          },
          "metadata": {}
        },
        {
          "output_type": "display_data",
          "data": {
            "image/png": "[encoded data removed]",
            "text/plain": [
              "<Figure size 1080x720 with 2 Axes>"
            ]
          },
          "metadata": {
            "needs_background": "light"
          }
        }
      ],
      "source": [
        "all_app_classes = [i for i in range(max(app_classes) + 1)]\n",
        "analyse(model, app_train_loader, app_test_loader, all_app_classes, 'app')"
      ]
    }
  ],
  "metadata": {
    "colab": {
      "collapsed_sections": [],
      "name": "new model for created dataset.ipynb",
      "provenance": [],
      "include_colab_link": true
    },
    "kernelspec": {
      "display_name": "Python 3",
      "name": "python3"
    },
    "language_info": {
      "name": "python"
    },
    "accelerator": "GPU"
  },
  "nbformat": 4,
  "nbformat_minor": 0
}