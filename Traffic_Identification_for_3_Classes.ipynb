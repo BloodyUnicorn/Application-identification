{
  "cells": [
    {
      "cell_type": "markdown",
      "metadata": {
        "id": "view-in-github",
        "colab_type": "text"
      },
      "source": [
        "<a href=\"https://colab.research.google.com/github/BloodyUnicorn/Application-identification/blob/main/Traffic_Identification_for_3_Classes.ipynb\" target=\"_parent\"><img src=\"https://colab.research.google.com/assets/colab-badge.svg\" alt=\"Open In Colab\"/></a>"
      ]
    },
    {
      "cell_type": "code",
      "execution_count": 28,
      "metadata": {
        "colab": {
          "base_uri": "https://localhost:8080/"
        },
        "id": "w_DUBMHZuVXh",
        "outputId": "b39a9f10-4bbf-4e59-b958-24cf51d21e76"
      },
      "outputs": [
        {
          "output_type": "stream",
          "name": "stdout",
          "text": [
            "Requirement already satisfied: scapy in /usr/local/lib/python3.7/dist-packages (2.4.5)\n"
          ]
        }
      ],
      "source": [
        "!pip install scapy"
      ]
    },
    {
      "cell_type": "code",
      "execution_count": 29,
      "metadata": {
        "id": "6FVOGPeeOnT5"
      },
      "outputs": [],
      "source": [
        "from pathlib import Path\n",
        "import os\n",
        "import os.path\n",
        "from google.colab import drive\n",
        "import numpy as np\n",
        "import pandas as pd\n",
        "from joblib import Parallel, delayed\n",
        "from scapy.compat import raw\n",
        "from scapy.layers.inet import IP, UDP\n",
        "from scapy.layers.l2 import Ether\n",
        "from scapy.packet import Padding\n",
        "from scapy.utils import rdpcap, PcapReader\n",
        "from scipy import sparse\n",
        "from sklearn.model_selection import train_test_split\n",
        "from imblearn.under_sampling import RandomUnderSampler\n",
        "\n",
        "from scapy.layers.dns import DNS\n",
        "from scapy.layers.inet import TCP\n",
        "from scapy.packet import Padding\n",
        "from scapy.utils import rdpcap\n",
        "\n",
        "import torch\n",
        "import torchvision\n",
        "import torchvision.transforms as transforms\n",
        "import torch.nn as nn\n",
        "import torch.nn.functional as F\n",
        "from random import sample\n",
        "import matplotlib.pyplot as plt\n",
        "import seaborn as sn\n",
        "import math\n",
        "import random\n",
        "\n",
        "\n",
        "from torch.utils.data import Dataset, DataLoader, random_split\n",
        "from torch.utils.data.sampler import SubsetRandomSampler\n",
        "from torch.nn import functional as F\n",
        "\n",
        "import time\n",
        "from datetime import timedelta\n",
        "from datetime import datetime\n",
        "import pickle\n",
        "import random\n",
        "from prettytable import PrettyTable"
      ]
    },
    {
      "cell_type": "code",
      "execution_count": 30,
      "metadata": {
        "colab": {
          "base_uri": "https://localhost:8080/"
        },
        "id": "LK_9Y1h_vZvH",
        "outputId": "eeb99a05-9c0f-4c2a-9311-8583ef6e9e20"
      },
      "outputs": [
        {
          "output_type": "stream",
          "name": "stdout",
          "text": [
            "Drive already mounted at /content/gdrive; to attempt to forcibly remount, call drive.mount(\"/content/gdrive\", force_remount=True).\n",
            "[Errno 2] No such file or directory: 'gdrive/MyDrive/'\n",
            "/content/gdrive/MyDrive\n"
          ]
        }
      ],
      "source": [
        "## Colab setting\n",
        "drive.mount('/content/gdrive')\n",
        "%cd gdrive/MyDrive/"
      ]
    },
    {
      "cell_type": "code",
      "execution_count": 31,
      "metadata": {
        "id": "E9zhwgU2-1il"
      },
      "outputs": [],
      "source": [
        "# Call `set_seed` function in the exercises to ensure reproducibility.\n",
        "\n",
        "def set_seed(seed=None, seed_torch=True):\n",
        "  if seed is None:\n",
        "    seed = np.random.choice(2 ** 32)\n",
        "  random.seed(seed)\n",
        "  np.random.seed(seed)\n",
        "  if seed_torch:\n",
        "    torch.manual_seed(seed)\n",
        "    torch.cuda.manual_seed_all(seed)\n",
        "    torch.cuda.manual_seed(seed)\n",
        "    torch.backends.cudnn.benchmark = False\n",
        "    torch.backends.cudnn.deterministic = True\n",
        "\n",
        "  print(f'Random seed {seed} has been set.')\n",
        "\n",
        "\n",
        "# In case that `DataLoader` is used\n",
        "def seed_worker(worker_id):\n",
        "  worker_seed = torch.initial_seed() % 2**32\n",
        "  np.random.seed(worker_seed)\n",
        "  random.seed(worker_seed)\n"
      ]
    },
    {
      "cell_type": "code",
      "execution_count": 32,
      "metadata": {
        "colab": {
          "base_uri": "https://localhost:8080/"
        },
        "id": "m9yCDYs9rE5T",
        "outputId": "cc6f9638-e065-4157-8fcd-d981ff9df269"
      },
      "outputs": [
        {
          "output_type": "stream",
          "name": "stdout",
          "text": [
            "Random seed 2021 has been set.\n"
          ]
        }
      ],
      "source": [
        "SEED = 2021\n",
        "set_seed(seed=SEED)"
      ]
    },
    {
      "cell_type": "markdown",
      "metadata": {
        "id": "dtYJn2iJeCtl"
      },
      "source": [
        ""
      ]
    },
    {
      "cell_type": "code",
      "execution_count": 33,
      "metadata": {
        "id": "hcBZoPxz7oix"
      },
      "outputs": [],
      "source": [
        "def remove_ether_header(packet):\n",
        "    if Ether in packet:\n",
        "        return packet[Ether].payload\n",
        "\n",
        "    return packet\n",
        "\n",
        "\n",
        "def mask_ip(packet):\n",
        "    if IP in packet:\n",
        "        packet[IP].src = '0.0.0.0'\n",
        "        packet[IP].dst = '0.0.0.0'\n",
        "\n",
        "    return packet\n",
        "\n",
        "\n",
        "def pad_udp(packet):\n",
        "    if UDP in packet:\n",
        "        # get layers after udp\n",
        "        layer_after = packet[UDP].payload.copy()\n",
        "\n",
        "        # build a padding layer\n",
        "        pad = Padding()\n",
        "        pad.load = '\\x00' * 12\n",
        "\n",
        "        layer_before = packet.copy()\n",
        "        layer_before[UDP].remove_payload()\n",
        "        packet = layer_before / pad / layer_after\n",
        "\n",
        "        return packet\n",
        "\n",
        "    return packet\n",
        "\n",
        "\n",
        "def packet_to_sparse_array(packet, max_length=1500):\n",
        "    arr = np.frombuffer(raw(packet), dtype=np.uint8)[0: max_length]     # Divide to 255 later\n",
        "    if len(arr) < max_length:\n",
        "        pad_width = max_length - len(arr)\n",
        "        arr = np.pad(arr, pad_width=(0, pad_width), constant_values=0)\n",
        "\n",
        "    arr = sparse.csr_matrix(arr)\n",
        "    return arr\n",
        "\n",
        "\n",
        "def should_omit_packet(packet):\n",
        "    # SYN, ACK or FIN flags set to 1 and no payload\n",
        "    if TCP in packet and (packet.flags & 0x13):\n",
        "        # not payload or contains only padding\n",
        "        layers = packet[TCP].payload.layers()\n",
        "        if not layers or (Padding in layers and len(layers) == 1):\n",
        "            return True\n",
        "\n",
        "    # DNS segment\n",
        "    if DNS in packet:\n",
        "        return True\n",
        "\n",
        "    return False\n",
        "\n",
        "\n",
        "def transform_packet(packet):\n",
        "    if should_omit_packet(packet):\n",
        "        return None\n",
        "\n",
        "    packet = remove_ether_header(packet)\n",
        "    packet = pad_udp(packet)\n",
        "    packet = mask_ip(packet)\n",
        "\n",
        "    arr = packet_to_sparse_array(packet)\n",
        "\n",
        "    return arr"
      ]
    },
    {
      "cell_type": "code",
      "execution_count": 34,
      "metadata": {
        "id": "dcObkTP151Y0"
      },
      "outputs": [],
      "source": [
        "# for app identification\n",
        "PREFIX_TO_APP_ID = {\n",
        "    # Aparat\n",
        "    'aparat': 0,\n",
        "    # # Filimo\n",
        "    'filimo': 1,\n",
        "    # Digikala\n",
        "    'digikala1': 2,\n",
        "}\n",
        "\n",
        "ID_TO_APP = {\n",
        "    0: 'Aparat',\n",
        "    1: 'Filimo',\n",
        "    2 : 'Digikala',\n",
        "}\n",
        "\n"
      ]
    },
    {
      "cell_type": "code",
      "execution_count": 35,
      "metadata": {
        "id": "idXFImZ_0kQZ"
      },
      "outputs": [],
      "source": [
        "pcaps = 'Created_Dataset/DFA_pcaps/'\n",
        "if not os.path.exists(os.path.dirname(pcaps)):\n",
        "   os.makedirs(os.path.dirname(pcaps))"
      ]
    },
    {
      "cell_type": "code",
      "execution_count": 36,
      "metadata": {
        "id": "rox5umDd113h"
      },
      "outputs": [],
      "source": [
        "cache = 'Created_Dataset/Dataset_3classes/dataset.pickle'\n",
        "if not os.path.exists(os.path.dirname(cache)):\n",
        "   os.makedirs(os.path.dirname(cache))\n",
        "dataset = []"
      ]
    },
    {
      "cell_type": "code",
      "execution_count": 37,
      "metadata": {
        "id": "9mYki2YpoOu8"
      },
      "outputs": [],
      "source": [
        "if not os.path.isfile(cache):\n",
        "    for path in os.listdir(pcaps):\n",
        "        print('Processing ' + path)\n",
        "        for i, packet in enumerate(rdpcap(pcaps + path)):\n",
        "            arr = transform_packet(packet)\n",
        "            if arr is not None:\n",
        "                # get labels for app identification\n",
        "                prefix = path.split('.')[0].lower()\n",
        "                app_label = PREFIX_TO_APP_ID.get(prefix)\n",
        "                row = {\n",
        "                    'app_label': app_label,\n",
        "                    'feature': arr.todense().tolist()[0]\n",
        "                }\n",
        "                dataset.append(row)\n",
        "    \n",
        "    with open(cache, 'wb') as f:\n",
        "        pickle.dump(dataset, f)\n",
        "else:\n",
        "    dataset = []\n",
        "    # data_dir = 'drive/MyDrive/deep_packet/Dataset/'\n",
        "    # for path in os.listdir(data_dir):\n",
        "    #     with open(data_dir + path, 'rb') as f:\n",
        "    #         dataset.extend(pickle.load(f))\n",
        "    with (open(cache, \"rb\")) as f:\n",
        "        dataset.extend(pickle.load(f))\n",
        "        \n",
        "\n",
        "# pprint(dataset)"
      ]
    },
    {
      "cell_type": "code",
      "execution_count": 38,
      "metadata": {
        "id": "Z_7sILA03PZF"
      },
      "outputs": [],
      "source": [
        "# from pprint import pprint\n",
        "# objects = []\n",
        "# data_dir = 'drive/MyDrive/Created_dataset/Dataset/'\n",
        "# with (open(cache, \"rb\")) as openfile:\n",
        "#     while True:\n",
        "#         try:\n",
        "#             objects.append(pickle.load(openfile))\n",
        "#         except EOFError:\n",
        "#             break\n",
        "        \n",
        "# pprint(objects)"
      ]
    },
    {
      "cell_type": "code",
      "execution_count": 39,
      "metadata": {
        "id": "TCmHeI5-Mi9_"
      },
      "outputs": [],
      "source": [
        "app_labels = [row['app_label'] for row in dataset]\n",
        "app_classes = set(app_labels)\n",
        "app_train_all, app_test_all = train_test_split(dataset, test_size=0.2, random_state=42, stratify=app_labels)\n",
        "\n",
        "del dataset"
      ]
    },
    {
      "cell_type": "code",
      "execution_count": 40,
      "metadata": {
        "id": "_6EJZH1ISHQJ"
      },
      "outputs": [],
      "source": [
        "app_train_final = [{'feature': torch.from_numpy(np.array([a/255.0 for a in elem['feature']], dtype=np.float32)), 'label': elem['app_label']} for elem in app_train_all]\n",
        "del app_train_all\n",
        "app_test_final = [{'feature': torch.from_numpy(np.array([a/255.0 for a in elem['feature']], dtype=np.float32)), 'label': elem['app_label']} for elem in app_test_all]\n",
        "del app_test_all"
      ]
    },
    {
      "cell_type": "code",
      "execution_count": 41,
      "metadata": {
        "colab": {
          "base_uri": "https://localhost:8080/"
        },
        "id": "AaSXdFLNczhw",
        "outputId": "5b90e7f4-f183-470a-8aab-fe2cecab3574"
      },
      "outputs": [
        {
          "output_type": "stream",
          "name": "stdout",
          "text": [
            "<class 'list'>\n",
            "31643\n"
          ]
        }
      ],
      "source": [
        "print(type(app_train_final))\n",
        "print(len(app_train_final))"
      ]
    },
    {
      "cell_type": "code",
      "execution_count": 42,
      "metadata": {
        "id": "k_-8K3xeEG2a"
      },
      "outputs": [],
      "source": [
        "batch_size = 64\n",
        "num_workers = 2\n",
        "\n",
        "app_train_loader = torch.utils.data.DataLoader(app_train_final, batch_size=batch_size, num_workers=num_workers)\n",
        "app_test_loader = torch.utils.data.DataLoader(app_test_final, batch_size=batch_size, num_workers=num_workers)"
      ]
    },
    {
      "cell_type": "markdown",
      "metadata": {
        "id": "6uiGeORfCJlm"
      },
      "source": [
        "## CNN Model"
      ]
    },
    {
      "cell_type": "code",
      "execution_count": 68,
      "metadata": {
        "id": "Eqk6k6yMgPrw"
      },
      "outputs": [],
      "source": [
        "class ConvNet(nn.Module):\n",
        "  def __init__(self):\n",
        "      super(ConvNet,self).__init__()\n",
        "      \n",
        "\n",
        "      self.conv1 = nn.Sequential( \n",
        "                        nn.Conv1d(\n",
        "                            in_channels=1,\n",
        "                            out_channels=200,\n",
        "                            kernel_size=5, \n",
        "                            stride=3, \n",
        "                            padding = 0) \n",
        "                        \n",
        "                        ,nn.ReLU()\n",
        "      )\n",
        "      \n",
        "    \n",
        "\n",
        "      self.maxpool = nn.MaxPool1d(2)\n",
        "\n",
        "      # use a dummy input to calculate\n",
        "      random_input = torch.rand(1, 1, 1500 , requires_grad=False)\n",
        "      random_input = self.conv1(random_input)\n",
        "      random_input = self.maxpool(random_input)\n",
        "      maxpool_out = random_input.view(1, -1).shape[1]\n",
        "\n",
        "      self.fc1 = nn.Sequential(\n",
        "            nn.Linear(\n",
        "                in_features= maxpool_out,\n",
        "                out_features=100\n",
        "            ),\n",
        "            nn.Dropout(p=0.05),\n",
        "            nn.ReLU()\n",
        "        )\n",
        "      \n",
        "\n",
        "      self.fc2 = nn.Sequential(\n",
        "            nn.Linear(\n",
        "                in_features=100,\n",
        "                out_features=50\n",
        "            ),\n",
        "            nn.Dropout(p=0.05),\n",
        "            nn.ReLU()\n",
        "        )\n",
        "\n",
        "\n",
        "      self.fc3 = nn.Sequential(\n",
        "            nn.Linear(\n",
        "                in_features=50,\n",
        "                out_features=25\n",
        "            ),\n",
        "            nn.Dropout(p=0.05),\n",
        "            nn.ReLU()\n",
        "        )\n",
        "   \n",
        "      \n",
        "      self.lastlayer = nn.Linear(\n",
        "            in_features=25,\n",
        "            out_features=3\n",
        "        )\n",
        "  def forward(self,x):\n",
        "\n",
        "      #adding 1 dimention\n",
        "      x = x.unsqueeze(1)\n",
        "\n",
        "      #conv layers\n",
        "      x = self.conv1(x)\n",
        "      x = self.maxpool(x)\n",
        "\n",
        "      #flatten\n",
        "      x = x.reshape(x.shape[0], -1)\n",
        "\n",
        "      #3fc\n",
        "      x = self.fc1(x)\n",
        "      x = self.fc2(x)\n",
        "      x = self.fc3(x)\n",
        "\n",
        "      #output\n",
        "      x = self.lastlayer(x)\n",
        "\n",
        "      return x"
      ]
    },
    {
      "cell_type": "code",
      "execution_count": 69,
      "metadata": {
        "colab": {
          "base_uri": "https://localhost:8080/"
        },
        "id": "mKtWWunavJ47",
        "outputId": "fc3bcc4d-c569-455f-dea2-907e044ef2b8"
      },
      "outputs": [
        {
          "output_type": "stream",
          "name": "stdout",
          "text": [
            "cuda\n"
          ]
        }
      ],
      "source": [
        "device = torch.device('cuda' if torch.cuda.is_available() else 'cpu')\n",
        "print(device)"
      ]
    },
    {
      "cell_type": "markdown",
      "metadata": {
        "id": "AfGqIfJPmQFe"
      },
      "source": [
        "## Train and Test"
      ]
    },
    {
      "cell_type": "code",
      "execution_count": 70,
      "metadata": {
        "id": "5MZqz9fRtT6c"
      },
      "outputs": [],
      "source": [
        "def Training(model, train_loader, criterion, optimizer, epochs):\n",
        "\n",
        "  train_losses  = [] \n",
        "  Acc =[]\n",
        "\n",
        "  for epoch in range(epochs):\n",
        "\n",
        "      epoch_accuracy =  0\n",
        "      total_correct = 0\n",
        "      train_loss = 0\n",
        "      total_pcaps = 0\n",
        "\n",
        "      model.train()\n",
        "      for elem in train_loader:\n",
        "\n",
        "          pcap_byte = elem['feature'].to(device)\n",
        "          \n",
        "\n",
        "          labels = elem['label'].to(device)\n",
        "          \n",
        "          \n",
        "          # Clear gradients w.r.t. parameters\n",
        "          optimizer.zero_grad()\n",
        "\n",
        "          # Forward pass to get output/logits\n",
        "          outputs = model(pcap_byte)\n",
        "\n",
        "          # Calculate Loss\n",
        "          loss = criterion(outputs, labels)\n",
        "\n",
        "          # Getting gradients w.r.t. parameters\n",
        "          loss.backward()\n",
        "\n",
        "          # Updating parameters\n",
        "          optimizer.step()\n",
        "          \n",
        "          total_pcaps += labels.size(0)\n",
        "\n",
        "          # Obtaining predictions from max value\n",
        "          _, predicted = torch.max(outputs.data, 1)\n",
        "\n",
        "\n",
        "          # Calculate the number of correct answers\n",
        "          correct = (predicted == labels).sum().item()\n",
        "\n",
        "          train_loss += loss.item()\n",
        "          total_correct += correct\n",
        "\n",
        "      epoch_accuracy = ((total_correct / total_pcaps) * 100)\n",
        "      Acc.append(epoch_accuracy)\n",
        "      average_loss = train_loss / len(train_loader)\n",
        "      train_losses.append(train_loss)\n",
        "      print('epoch %d, train_loss: %.3f' % (epoch + 1, average_loss))\n",
        "      \n",
        "\n",
        "\n",
        "  Accuracy = ((total_correct / total_pcaps) * 100)\n",
        "  print('Training Accuracy: %.3f' % (Accuracy))\n",
        "  plt.plot(np.arange(len(train_losses)), train_losses, 'r')\n",
        "  plt.xlabel('Epoch')\n",
        "  plt.ylabel('Train Loss')\n",
        "  plt.show()\n",
        "  \n",
        "\n",
        "  plt.plot(np.arange(len(Acc)), Acc, 'b')\n",
        "  plt.xlabel('Epoch')\n",
        "  plt.ylabel('Accuracy')\n",
        "  plt.show()"
      ]
    },
    {
      "cell_type": "code",
      "execution_count": 71,
      "metadata": {
        "colab": {
          "base_uri": "https://localhost:8080/"
        },
        "id": "MYVNhPYYg2pX",
        "outputId": "f4208d5a-bc76-4ff6-957f-6e9dd92fabd2"
      },
      "outputs": [
        {
          "output_type": "stream",
          "name": "stdout",
          "text": [
            "ConvNet(\n",
            "  (conv1): Sequential(\n",
            "    (0): Conv1d(1, 200, kernel_size=(5,), stride=(3,))\n",
            "    (1): ReLU()\n",
            "  )\n",
            "  (maxpool): MaxPool1d(kernel_size=2, stride=2, padding=0, dilation=1, ceil_mode=False)\n",
            "  (fc1): Sequential(\n",
            "    (0): Linear(in_features=49800, out_features=100, bias=True)\n",
            "    (1): Dropout(p=0.05, inplace=False)\n",
            "    (2): ReLU()\n",
            "  )\n",
            "  (fc2): Sequential(\n",
            "    (0): Linear(in_features=100, out_features=50, bias=True)\n",
            "    (1): Dropout(p=0.05, inplace=False)\n",
            "    (2): ReLU()\n",
            "  )\n",
            "  (fc3): Sequential(\n",
            "    (0): Linear(in_features=50, out_features=25, bias=True)\n",
            "    (1): Dropout(p=0.05, inplace=False)\n",
            "    (2): ReLU()\n",
            "  )\n",
            "  (lastlayer): Linear(in_features=25, out_features=3, bias=True)\n",
            ")\n"
          ]
        }
      ],
      "source": [
        "model = ConvNet().to(device)\n",
        "learning_rate = 0.001\n",
        "optimizer = torch.optim.SGD(model.parameters(), lr = learning_rate ) \n",
        "criterion = nn.CrossEntropyLoss()\n",
        "print(model)"
      ]
    },
    {
      "cell_type": "markdown",
      "metadata": {
        "id": "N7njrkIzfd8D"
      },
      "source": [
        "## Iterations"
      ]
    },
    {
      "cell_type": "code",
      "execution_count": 72,
      "metadata": {
        "id": "J7Gv6oDguJ9i",
        "colab": {
          "base_uri": "https://localhost:8080/",
          "height": 1000
        },
        "outputId": "79bb0efa-e33e-424c-8bd1-ba3c6ebff5d7"
      },
      "outputs": [
        {
          "output_type": "stream",
          "name": "stdout",
          "text": [
            "epoch 1, train_loss: 1.033\n",
            "epoch 2, train_loss: 1.009\n",
            "epoch 3, train_loss: 1.007\n",
            "epoch 4, train_loss: 1.005\n",
            "epoch 5, train_loss: 1.003\n",
            "epoch 6, train_loss: 1.000\n",
            "epoch 7, train_loss: 0.998\n",
            "epoch 8, train_loss: 0.995\n",
            "epoch 9, train_loss: 0.992\n",
            "epoch 10, train_loss: 0.988\n",
            "epoch 11, train_loss: 0.985\n",
            "epoch 12, train_loss: 0.980\n",
            "epoch 13, train_loss: 0.976\n",
            "epoch 14, train_loss: 0.971\n",
            "epoch 15, train_loss: 0.964\n",
            "epoch 16, train_loss: 0.956\n",
            "epoch 17, train_loss: 0.947\n",
            "epoch 18, train_loss: 0.934\n",
            "epoch 19, train_loss: 0.921\n",
            "epoch 20, train_loss: 0.903\n",
            "epoch 21, train_loss: 0.882\n",
            "epoch 22, train_loss: 0.857\n",
            "epoch 23, train_loss: 0.827\n",
            "epoch 24, train_loss: 0.794\n",
            "epoch 25, train_loss: 0.759\n",
            "epoch 26, train_loss: 0.723\n",
            "epoch 27, train_loss: 0.688\n",
            "epoch 28, train_loss: 0.658\n",
            "epoch 29, train_loss: 0.629\n",
            "epoch 30, train_loss: 0.605\n",
            "epoch 31, train_loss: 0.574\n",
            "epoch 32, train_loss: 0.555\n",
            "epoch 33, train_loss: 0.527\n",
            "epoch 34, train_loss: 0.506\n",
            "epoch 35, train_loss: 0.483\n",
            "epoch 36, train_loss: 0.468\n",
            "epoch 37, train_loss: 0.456\n",
            "epoch 38, train_loss: 0.434\n",
            "epoch 39, train_loss: 0.419\n",
            "epoch 40, train_loss: 0.405\n",
            "epoch 41, train_loss: 0.389\n",
            "epoch 42, train_loss: 0.377\n",
            "epoch 43, train_loss: 0.366\n",
            "epoch 44, train_loss: 0.350\n",
            "epoch 45, train_loss: 0.348\n",
            "epoch 46, train_loss: 0.332\n",
            "epoch 47, train_loss: 0.314\n",
            "epoch 48, train_loss: 0.311\n",
            "epoch 49, train_loss: 0.302\n",
            "epoch 50, train_loss: 0.297\n",
            "epoch 51, train_loss: 0.281\n",
            "epoch 52, train_loss: 0.274\n",
            "epoch 53, train_loss: 0.269\n",
            "epoch 54, train_loss: 0.256\n",
            "epoch 55, train_loss: 0.253\n",
            "epoch 56, train_loss: 0.240\n",
            "epoch 57, train_loss: 0.241\n",
            "epoch 58, train_loss: 0.228\n",
            "epoch 59, train_loss: 0.221\n",
            "epoch 60, train_loss: 0.214\n",
            "epoch 61, train_loss: 0.210\n",
            "epoch 62, train_loss: 0.202\n",
            "epoch 63, train_loss: 0.198\n",
            "epoch 64, train_loss: 0.199\n",
            "epoch 65, train_loss: 0.185\n",
            "epoch 66, train_loss: 0.183\n",
            "epoch 67, train_loss: 0.184\n",
            "epoch 68, train_loss: 0.174\n",
            "epoch 69, train_loss: 0.172\n",
            "epoch 70, train_loss: 0.173\n",
            "epoch 71, train_loss: 0.154\n",
            "epoch 72, train_loss: 0.171\n",
            "epoch 73, train_loss: 0.152\n",
            "epoch 74, train_loss: 0.147\n",
            "epoch 75, train_loss: 0.144\n",
            "epoch 76, train_loss: 0.141\n",
            "epoch 77, train_loss: 0.129\n",
            "epoch 78, train_loss: 0.129\n",
            "epoch 79, train_loss: 0.141\n",
            "epoch 80, train_loss: 0.145\n",
            "epoch 81, train_loss: 0.120\n",
            "epoch 82, train_loss: 0.145\n",
            "epoch 83, train_loss: 0.136\n",
            "epoch 84, train_loss: 0.130\n",
            "epoch 85, train_loss: 0.107\n",
            "epoch 86, train_loss: 0.144\n",
            "epoch 87, train_loss: 0.110\n",
            "epoch 88, train_loss: 0.141\n",
            "epoch 89, train_loss: 0.115\n",
            "epoch 90, train_loss: 0.108\n",
            "epoch 91, train_loss: 0.098\n",
            "epoch 92, train_loss: 0.093\n",
            "epoch 93, train_loss: 0.088\n",
            "epoch 94, train_loss: 0.086\n",
            "epoch 95, train_loss: 0.101\n",
            "epoch 96, train_loss: 0.094\n",
            "epoch 97, train_loss: 0.081\n",
            "epoch 98, train_loss: 0.077\n",
            "epoch 99, train_loss: 0.094\n",
            "epoch 100, train_loss: 0.095\n",
            "epoch 101, train_loss: 0.107\n",
            "epoch 102, train_loss: 0.073\n",
            "epoch 103, train_loss: 0.080\n",
            "epoch 104, train_loss: 0.068\n",
            "epoch 105, train_loss: 0.064\n",
            "epoch 106, train_loss: 0.064\n",
            "epoch 107, train_loss: 0.063\n",
            "epoch 108, train_loss: 0.073\n",
            "epoch 109, train_loss: 0.058\n",
            "epoch 110, train_loss: 0.058\n",
            "epoch 111, train_loss: 0.054\n",
            "epoch 112, train_loss: 0.076\n",
            "epoch 113, train_loss: 0.057\n",
            "epoch 114, train_loss: 0.053\n",
            "epoch 115, train_loss: 0.053\n",
            "epoch 116, train_loss: 0.075\n",
            "epoch 117, train_loss: 0.051\n",
            "epoch 118, train_loss: 0.048\n",
            "epoch 119, train_loss: 0.068\n",
            "epoch 120, train_loss: 0.052\n",
            "epoch 121, train_loss: 0.047\n",
            "epoch 122, train_loss: 0.044\n",
            "epoch 123, train_loss: 0.043\n",
            "epoch 124, train_loss: 0.042\n",
            "epoch 125, train_loss: 0.043\n",
            "epoch 126, train_loss: 0.039\n",
            "epoch 127, train_loss: 0.039\n",
            "epoch 128, train_loss: 0.038\n",
            "epoch 129, train_loss: 0.037\n",
            "epoch 130, train_loss: 0.038\n",
            "epoch 131, train_loss: 0.036\n",
            "epoch 132, train_loss: 0.036\n",
            "epoch 133, train_loss: 0.035\n",
            "epoch 134, train_loss: 0.034\n",
            "epoch 135, train_loss: 0.072\n",
            "epoch 136, train_loss: 0.033\n",
            "epoch 137, train_loss: 0.032\n",
            "epoch 138, train_loss: 0.031\n",
            "epoch 139, train_loss: 0.031\n",
            "epoch 140, train_loss: 0.031\n",
            "epoch 141, train_loss: 0.030\n",
            "epoch 142, train_loss: 0.029\n",
            "epoch 143, train_loss: 0.029\n",
            "epoch 144, train_loss: 0.028\n",
            "epoch 145, train_loss: 0.027\n",
            "epoch 146, train_loss: 0.028\n",
            "epoch 147, train_loss: 0.027\n",
            "epoch 148, train_loss: 0.026\n",
            "epoch 149, train_loss: 0.026\n",
            "epoch 150, train_loss: 0.026\n",
            "Training Accuracy: 99.358\n"
          ]
        },
        {
          "output_type": "display_data",
          "data": {
            "image/png": "[encoded data removed]",
            "text/plain": [
              "<Figure size 432x288 with 1 Axes>"
            ]
          },
          "metadata": {
            "needs_background": "light"
          }
        },
        {
          "output_type": "display_data",
          "data": {
            "image/png": "[encoded data removed]",
            "text/plain": [
              "<Figure size 432x288 with 1 Axes>"
            ]
          },
          "metadata": {
            "needs_background": "light"
          }
        }
      ],
      "source": [
        "Training(model,app_train_loader,criterion,optimizer,150)"
      ]
    },
    {
      "cell_type": "code",
      "execution_count": 73,
      "metadata": {
        "id": "mK-SAGbxRvsv"
      },
      "outputs": [],
      "source": [
        "def test_model_accuracy(model, test_loader, classes):\n",
        "    # Calculate Accuracy         \n",
        "    correct = 0.\n",
        "    total = 0.\n",
        "    correct_predicted = {id : 0 for id in range(len(classes))}\n",
        "    num_of_labels = {id : 0 for id in range(len(classes))}\n",
        "    all_predicted = {id : 0 for id in range(len(classes))}\n",
        "    confusion = [ [0] * len(classes) for _ in range(len(classes))]\n",
        "\n",
        "    # Iterate through test dataset\n",
        "    with torch.no_grad():\n",
        "      for elem in test_loader:\n",
        "        byte_array = elem['feature'].to(device)\n",
        "        labels = elem['label']\n",
        "        outputs = model(byte_array)\n",
        "        _, predicted = torch.max(outputs.data, 1)\n",
        "        total += labels.size(0)\n",
        "\n",
        "        for p, l in zip(predicted, labels):\n",
        "            num_of_labels[l.item()] += 1\n",
        "            pc = p.to('cpu').item()\n",
        "            all_predicted[pc] += 1\n",
        "            confusion[l][pc] += 1\n",
        "\n",
        "            if p == l:\n",
        "                correct_predicted[pc] += 1\n",
        "\n",
        "        correct += (predicted.to('cpu') == labels).sum().item()\n",
        "\n",
        "    accuracy = 100 * correct / total\n",
        "    print('Accuracy: {}%'.format(accuracy))\n",
        "    return confusion, [x / y if y else 0 for x, y in zip(correct_predicted.values(), all_predicted.values())], [x / y if y else 0 for x, y in zip(correct_predicted.values(), num_of_labels.values())]"
      ]
    },
    {
      "cell_type": "code",
      "execution_count": 74,
      "metadata": {
        "id": "EZWdvJNsZn85"
      },
      "outputs": [],
      "source": [
        "def analyse(model, train_loader, test_loader, classes, task):\n",
        "    # print('Train ', end='')\n",
        "    _, train_rcs, train_prs = test_model_accuracy(model, train_loader, classes)\n",
        "    print('Test ', end='')\n",
        "    confusion, test_rcs, test_prs = test_model_accuracy(model, test_loader, classes)\n",
        "    test_f1 = []\n",
        "    table = PrettyTable(['Class', 'Rc', 'Pr', 'F1'])\n",
        "\n",
        "    for i, (rc, pr) in enumerate(zip(test_rcs, test_prs)):\n",
        "        f1 = 2 * rc * pr / (rc + pr) if (rc + pr) else 0\n",
        "        test_f1.append(f1)\n",
        "        class_name = ID_TO_APP.get(classes[i])\n",
        "        table.add_row([class_name, str(round(rc, 3)), str(round(pr, 3)), str(round(f1, 3))])\n",
        "\n",
        "    np_rcs = np.array(test_rcs)\n",
        "    rc_avg = np_rcs[np.nonzero(np_rcs)].mean()\n",
        "    np_prs = np.array(test_prs)\n",
        "    pr_avg = np_prs[np.nonzero(np_prs)].mean()\n",
        "    np_f1s = np.array(test_f1)\n",
        "    f1_avg = np_f1s[np.nonzero(np_f1s)].mean()\n",
        "    table.add_row(['Available Classes Avg', str(round(rc_avg, 3)), str(round(pr_avg, 3)), str(round(f1_avg, 3))])\n",
        "    print(table)\n",
        "\n",
        "    class_names = [ID_TO_APP.get(c) for c in classes]\n",
        "    plt.figure(figsize=(30, 9), dpi= 80, facecolor='w', edgecolor='k')\n",
        "    plt.bar([i - 0.1 for i in range(len(classes))], train_prs, width=0.2, label='Train')\n",
        "    plt.bar([i + 0.1 for i in range(len(classes))], test_prs, width=0.2, label='Test')\n",
        "    plt.legend()\n",
        "    plt.xlim(-0.2, len(classes))\n",
        "    plt.xticks(list(range(len(classes))), class_names, rotation='vertical')\n",
        "    plt.title('Comparision Between Test and Train Accuracies')\n",
        "    plt.xlabel('Category')\n",
        "    plt.ylabel('Accuracy')\n",
        "    plt.show()\n",
        "\n",
        "    df_cm = pd.DataFrame(confusion, index = [i for i in class_names], columns = [i for i in class_names])\n",
        "    plt.figure(figsize = (15,10))\n",
        "    sn.heatmap(df_cm, annot=True)"
      ]
    },
    {
      "cell_type": "code",
      "execution_count": 75,
      "metadata": {
        "id": "m7Fhr7hYQuaP",
        "colab": {
          "base_uri": "https://localhost:8080/"
        },
        "outputId": "45ad3c82-43c5-4537-a785-07772c7e9c32"
      },
      "outputs": [
        {
          "output_type": "stream",
          "name": "stdout",
          "text": [
            "['Aparat', 'Filimo', 'Digikala']\n"
          ]
        }
      ],
      "source": [
        "app_labels = []\n",
        "for i in sorted(list(ID_TO_APP.keys())):\n",
        "    app_labels.append(ID_TO_APP[i])\n",
        "\n",
        "print(app_labels)"
      ]
    },
    {
      "cell_type": "code",
      "execution_count": 76,
      "metadata": {
        "id": "hfgZNJq0nbch",
        "colab": {
          "base_uri": "https://localhost:8080/"
        },
        "outputId": "d727bc99-df85-4919-9e7d-89e1fe6ab0f5"
      },
      "outputs": [
        {
          "output_type": "stream",
          "name": "stdout",
          "text": [
            "Accuracy: 96.9409682720263%\n"
          ]
        }
      ],
      "source": [
        "correct = 0.\n",
        "total = 0.\n",
        "model.eval()\n",
        "with torch.no_grad():\n",
        "      for elem in app_test_loader:\n",
        "        byte_array = elem['feature'].to(device)\n",
        "        labels = elem['label'].to(device)\n",
        "        outputs = model(byte_array)\n",
        "        _, predicted = torch.max(outputs.data, 1)\n",
        "        total += labels.size(0)\n",
        "        correct += (predicted == labels).sum().item()\n",
        "\n",
        "accuracy = 100 * correct / total\n",
        "print('Accuracy: {}%'.format(accuracy))"
      ]
    },
    {
      "cell_type": "code",
      "execution_count": 77,
      "metadata": {
        "id": "KN8318FztwKV",
        "colab": {
          "base_uri": "https://localhost:8080/",
          "height": 1000
        },
        "outputId": "af3c1a89-9612-4a36-d572-7d39b2d6d4ef"
      },
      "outputs": [
        {
          "output_type": "stream",
          "name": "stdout",
          "text": [
            "Accuracy: 99.45643586259204%\n",
            "Test Accuracy: 96.9409682720263%\n",
            "+-----------------------+-------+-------+-------+\n",
            "|         Class         |   Rc  |   Pr  |   F1  |\n",
            "+-----------------------+-------+-------+-------+\n",
            "|         Aparat        | 0.979 | 0.967 | 0.973 |\n",
            "|         Filimo        | 0.944 | 0.983 | 0.963 |\n",
            "|        Digikala       | 0.983 | 0.961 | 0.972 |\n",
            "| Available Classes Avg | 0.969 | 0.971 |  0.97 |\n",
            "+-----------------------+-------+-------+-------+\n"
          ]
        },
        {
          "output_type": "display_data",
          "data": {
            "image/png": "[encoded data removed]",
            "text/plain": [
              "<Figure size 2400x720 with 1 Axes>"
            ]
          },
          "metadata": {}
        },
        {
          "output_type": "display_data",
          "data": {
            "image/png": "[encoded data removed]",
            "text/plain": [
              "<Figure size 1080x720 with 2 Axes>"
            ]
          },
          "metadata": {
            "needs_background": "light"
          }
        }
      ],
      "source": [
        "all_app_classes = [i for i in range(max(app_classes) + 1)]\n",
        "analyse(model, app_train_loader, app_test_loader, all_app_classes, 'app')"
      ]
    }
  ],
  "metadata": {
    "colab": {
      "collapsed_sections": [],
      "name": "Traffic Identification for 3 Classes.ipynb",
      "provenance": [],
      "include_colab_link": true
    },
    "kernelspec": {
      "display_name": "Python 3",
      "name": "python3"
    },
    "language_info": {
      "name": "python"
    },
    "accelerator": "GPU"
  },
  "nbformat": 4,
  "nbformat_minor": 0
}