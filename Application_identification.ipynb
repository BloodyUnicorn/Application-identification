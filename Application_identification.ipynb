{
  "nbformat": 4,
  "nbformat_minor": 0,
  "metadata": {
    "colab": {
      "name": "Application identification.ipynb",
      "provenance": [],
      "collapsed_sections": [],
      "mount_file_id": "119x08AFdBOJFva2h3Tpstw9YCH12bbX9",
      "authorship_tag": "ABX9TyOJswzdpjEd9tGcnFejxqCf",
      "include_colab_link": true
    },
    "kernelspec": {
      "name": "python3",
      "display_name": "Python 3"
    },
    "language_info": {
      "name": "python"
    }
  },
  "cells": [
    {
      "cell_type": "markdown",
      "metadata": {
        "id": "view-in-github",
        "colab_type": "text"
      },
      "source": [
        "<a href=\"https://colab.research.google.com/github/BloodyUnicorn/Application-identification/blob/main/Application_identification.ipynb\" target=\"_parent\"><img src=\"https://colab.research.google.com/assets/colab-badge.svg\" alt=\"Open In Colab\"/></a>"
      ]
    },
    {
      "cell_type": "code",
      "metadata": {
        "id": "w_DUBMHZuVXh",
        "colab": {
          "base_uri": "https://localhost:8080/"
        },
        "outputId": "c88a45a1-06cc-43a8-c1dc-f88ffcf6ca86"
      },
      "source": [
        "!pip install scapy"
      ],
      "execution_count": null,
      "outputs": [
        {
          "output_type": "stream",
          "text": [
            "Requirement already satisfied: scapy in /usr/local/lib/python3.7/dist-packages (2.4.5)\n"
          ],
          "name": "stdout"
        }
      ]
    },
    {
      "cell_type": "code",
      "metadata": {
        "colab": {
          "base_uri": "https://localhost:8080/"
        },
        "id": "6FVOGPeeOnT5",
        "outputId": "dd8edf0e-8224-4ac2-f71f-b8075a141813"
      },
      "source": [
        "from pathlib import Path\n",
        "import os\n",
        "import os.path\n",
        "from google.colab import drive\n",
        "import numpy as np\n",
        "import pandas as pd\n",
        "from joblib import Parallel, delayed\n",
        "from scapy.compat import raw\n",
        "from scapy.layers.inet import IP, UDP\n",
        "from scapy.layers.l2 import Ether\n",
        "from scapy.packet import Padding\n",
        "from scapy.utils import rdpcap, PcapReader\n",
        "from scipy import sparse\n",
        "from sklearn.model_selection import train_test_split\n",
        "from imblearn.under_sampling import RandomUnderSampler\n",
        "\n",
        "import torch\n",
        "import torchvision\n",
        "import torchvision.transforms as transforms\n",
        "import torch.nn as nn\n",
        "import torch.nn.functional as F\n",
        "from random import sample\n",
        "import matplotlib.pyplot as plt\n",
        "import seaborn as sn\n",
        "import math\n",
        "\n",
        "from torch.utils.data import Dataset, DataLoader, random_split\n",
        "from torch.utils.data.sampler import SubsetRandomSampler\n",
        "\n",
        "import time\n",
        "from datetime import timedelta\n",
        "from datetime import datetime\n",
        "import pickle\n",
        "import random\n",
        "from prettytable import PrettyTable\n",
        "\n",
        "# import sys\n",
        "# sys.path.append('drive/MyDrive/deep_packet')"
      ],
      "execution_count": null,
      "outputs": [
        {
          "output_type": "stream",
          "text": [
            "/usr/local/lib/python3.7/dist-packages/sklearn/externals/six.py:31: FutureWarning: The module is deprecated in version 0.21 and will be removed in version 0.23 since we've dropped support for Python 2.7. Please rely on the official version of six (https://pypi.org/project/six/).\n",
            "  \"(https://pypi.org/project/six/).\", FutureWarning)\n",
            "/usr/local/lib/python3.7/dist-packages/sklearn/utils/deprecation.py:144: FutureWarning: The sklearn.neighbors.base module is  deprecated in version 0.22 and will be removed in version 0.24. The corresponding classes / functions should instead be imported from sklearn.neighbors. Anything that cannot be imported from sklearn.neighbors is now part of the private API.\n",
            "  warnings.warn(message, FutureWarning)\n"
          ],
          "name": "stderr"
        }
      ]
    },
    {
      "cell_type": "markdown",
      "metadata": {
        "id": "8m7UbsUGAdts"
      },
      "source": [
        "## Preprocessing"
      ]
    },
    {
      "cell_type": "code",
      "metadata": {
        "id": "LK_9Y1h_vZvH",
        "colab": {
          "base_uri": "https://localhost:8080/"
        },
        "outputId": "47f94259-e281-44f3-c6ba-8f0ea57f8d40"
      },
      "source": [
        "## Colab setting\n",
        "drive.mount('/content/gdrive')\n",
        "%cd gdrive/MyDrive/"
      ],
      "execution_count": null,
      "outputs": [
        {
          "output_type": "stream",
          "text": [
            "Mounted at /content/gdrive\n",
            "/content/gdrive/MyDrive\n"
          ],
          "name": "stdout"
        }
      ]
    },
    {
      "cell_type": "code",
      "metadata": {
        "id": "hcBZoPxz7oix"
      },
      "source": [
        "def remove_ether_header(packet):\n",
        "    if Ether in packet:\n",
        "        return packet[Ether].payload\n",
        "\n",
        "    return packet\n",
        "\n",
        "\n",
        "def mask_ip(packet):\n",
        "    if IP in packet:\n",
        "        packet[IP].src = '0.0.0.0'\n",
        "        packet[IP].dst = '0.0.0.0'\n",
        "\n",
        "    return packet\n",
        "\n",
        "\n",
        "def pad_udp(packet):\n",
        "    if UDP in packet:\n",
        "        # get layers after udp\n",
        "        layer_after = packet[UDP].payload.copy()\n",
        "\n",
        "        # build a padding layer\n",
        "        pad = Padding()\n",
        "        pad.load = '\\x00' * 12\n",
        "\n",
        "        layer_before = packet.copy()\n",
        "        layer_before[UDP].remove_payload()\n",
        "        packet = layer_before / pad / layer_after\n",
        "\n",
        "        return packet\n",
        "\n",
        "    return packet\n",
        "\n",
        "\n",
        "def packet_to_sparse_array(packet, max_length=1500):\n",
        "    arr = np.frombuffer(raw(packet), dtype=np.uint8)[0: max_length]     # Divide to 255 later\n",
        "    if len(arr) < max_length:\n",
        "        pad_width = max_length - len(arr)\n",
        "        arr = np.pad(arr, pad_width=(0, pad_width), constant_values=0)\n",
        "\n",
        "    arr = sparse.csr_matrix(arr)\n",
        "    return arr\n",
        "\n",
        "\n",
        "def transform_packet(packet):\n",
        "    if should_omit_packet(packet):\n",
        "        return None\n",
        "\n",
        "    packet = remove_ether_header(packet)\n",
        "    packet = pad_udp(packet)\n",
        "    packet = mask_ip(packet)\n",
        "\n",
        "    arr = packet_to_sparse_array(packet)\n",
        "\n",
        "    return arr"
      ],
      "execution_count": null,
      "outputs": []
    },
    {
      "cell_type": "code",
      "metadata": {
        "id": "dcObkTP151Y0"
      },
      "source": [
        "from pathlib import Path\n",
        "from scapy.layers.dns import DNS\n",
        "from scapy.layers.inet import TCP\n",
        "from scapy.packet import Padding\n",
        "from scapy.utils import rdpcap\n",
        "\n",
        "# for app identification\n",
        "PREFIX_TO_APP_ID = {\n",
        "    # AIM chat\n",
        "    'aim_chat_3a': 0,\n",
        "    'aim_chat_3b': 0,\n",
        "    'aimchat1': 0,\n",
        "    'aimchat2': 0,\n",
        "    # Email\n",
        "    'email1a': 1,\n",
        "    'email1b': 1,\n",
        "    'email2a': 1,\n",
        "    'email2b': 1,\n",
        "    # Facebook\n",
        "    'facebook_audio1a': 2,\n",
        "    'facebook_audio1b': 2,\n",
        "    'facebook_audio2a': 2,\n",
        "    'facebook_audio2b': 2,\n",
        "    'facebook_audio3': 2,\n",
        "    'facebook_audio4': 2,\n",
        "    'facebook_chat_4a': 2,\n",
        "    'facebook_chat_4b': 2,\n",
        "    'facebook_video1a': 2,\n",
        "    'facebook_video1b': 2,\n",
        "    'facebook_video2a': 2,\n",
        "    'facebook_video2b': 2,\n",
        "    'facebookchat1': 2,\n",
        "    'facebookchat2': 2,\n",
        "    'facebookchat3': 2,\n",
        "    # FTPS\n",
        "    'ftps_down_1a': 3,\n",
        "    'ftps_down_1b': 3,\n",
        "    'ftps_up_2a': 3,\n",
        "    'ftps_up_2b': 3,\n",
        "    # Gmail\n",
        "    'gmailchat1': 4,\n",
        "    'gmailchat2': 4,\n",
        "    'gmailchat3': 4,\n",
        "    # Hangouts\n",
        "    'hangout_chat_4b': 5,\n",
        "    'hangouts_audio1a': 5,\n",
        "    'hangouts_audio1b': 5,\n",
        "    'hangouts_audio2a': 5,\n",
        "    'hangouts_audio2b': 5,\n",
        "    'hangouts_audio3': 5,\n",
        "    'hangouts_audio4': 5,\n",
        "    'hangouts_chat_4a': 5,\n",
        "    'hangouts_video1b': 5,\n",
        "    'hangouts_video2a': 5,\n",
        "    'hangouts_video2b': 5,\n",
        "    # ICQ\n",
        "    'icq_chat_3a': 6,\n",
        "    'icq_chat_3b': 6,\n",
        "    'icqchat1': 6,\n",
        "    'icqchat2': 6,\n",
        "    # Netflix\n",
        "    'netflix1': 7,\n",
        "    'netflix2': 7,\n",
        "    'netflix3': 7,\n",
        "    'netflix4': 7,\n",
        "    # SCP\n",
        "    'scp1': 8,\n",
        "    'scpdown1': 8,\n",
        "    'scpdown2': 8,\n",
        "    'scpdown3': 8,\n",
        "    'scpdown4': 8,\n",
        "    'scpdown5': 8,\n",
        "    'scpdown6': 8,\n",
        "    'scpup1': 8,\n",
        "    'scpup2': 8,\n",
        "    'scpup3': 8,\n",
        "    'scpup5': 8,\n",
        "    'scpup6': 8,\n",
        "    # SFTP\n",
        "    'sftp1': 9,\n",
        "    'sftp_down_3a': 9,\n",
        "    'sftp_down_3b': 9,\n",
        "    'sftp_up_2a': 9,\n",
        "    'sftp_up_2b': 9,\n",
        "    'sftpdown1': 9,\n",
        "    'sftpdown2': 9,\n",
        "    'sftpup1': 9,\n",
        "    # Skype\n",
        "    'skype_audio1a': 10,\n",
        "    'skype_audio1b': 10,\n",
        "    'skype_audio2a': 10,\n",
        "    'skype_audio2b': 10,\n",
        "    'skype_audio3': 10,\n",
        "    'skype_audio4': 10,\n",
        "    'skype_chat1a': 10,\n",
        "    'skype_chat1b': 10,\n",
        "    'skype_file1': 10,\n",
        "    'skype_file2': 10,\n",
        "    'skype_file3': 10,\n",
        "    'skype_file4': 10,\n",
        "    'skype_file5': 10,\n",
        "    'skype_file6': 10,\n",
        "    'skype_file7': 10,\n",
        "    'skype_file8': 10,\n",
        "    'skype_video1a': 10,\n",
        "    'skype_video1b': 10,\n",
        "    'skype_video2a': 10,\n",
        "    'skype_video2b': 10,\n",
        "    # Spotify\n",
        "    'spotify1': 11,\n",
        "    'spotify2': 11,\n",
        "    'spotify3': 11,\n",
        "    'spotify4': 11,\n",
        "    # Torrent\n",
        "    'torrent01': 12,\n",
        "    # Tor\n",
        "    'torfacebook': 13,\n",
        "    'torgoogle': 13,\n",
        "    'tortwitter': 13,\n",
        "    'torvimeo1': 13,\n",
        "    'torvimeo2': 13,\n",
        "    'torvimeo3': 13,\n",
        "    'toryoutube1': 13,\n",
        "    'toryoutube2': 13,\n",
        "    'toryoutube3': 13,\n",
        "    # Vimeo\n",
        "    'vimeo1': 14,\n",
        "    'vimeo2': 14,\n",
        "    'vimeo3': 14,\n",
        "    'vimeo4': 14,\n",
        "    # Voipbuster\n",
        "    'voipbuster1b': 15,\n",
        "    'voipbuster2b': 15,\n",
        "    'voipbuster3b': 15,\n",
        "    'voipbuster_4a': 15,\n",
        "    'voipbuster_4b': 15,\n",
        "    # Youtube\n",
        "    'youtube1': 16,\n",
        "    'youtube2': 16,\n",
        "    'youtube3': 16,\n",
        "    'youtube4': 16,\n",
        "    'youtube5': 16,\n",
        "    'youtube6': 16,\n",
        "    'youtubehtml5_1': 16,\n",
        "}\n",
        "\n",
        "ID_TO_APP = {\n",
        "    0: 'AIM Chat',\n",
        "    1: 'Email',\n",
        "    2: 'Facebook',\n",
        "    3: 'FTPS',\n",
        "    4: 'Gmail',\n",
        "    5: 'Hangouts',\n",
        "    6: 'ICQ',\n",
        "    7: 'Netflix',\n",
        "    8: 'SCP',\n",
        "    9: 'SFTP',\n",
        "    10: 'Skype',\n",
        "    11: 'Spotify',\n",
        "    12: 'Torrent',\n",
        "    13: 'Tor',\n",
        "    14: 'Vimeo',\n",
        "    15: 'Voipbuster',\n",
        "    16: 'Youtube',\n",
        "}\n",
        "\n",
        "\n",
        "\n",
        "def read_pcap(path: Path):\n",
        "    packets = rdpcap(str(path))\n",
        "\n",
        "    return packets\n",
        "\n",
        "\n",
        "def should_omit_packet(packet):\n",
        "    # SYN, ACK or FIN flags set to 1 and no payload\n",
        "    if TCP in packet and (packet.flags & 0x13):\n",
        "        # not payload or contains only padding\n",
        "        layers = packet[TCP].payload.layers()\n",
        "        if not layers or (Padding in layers and len(layers) == 1):\n",
        "            return True\n",
        "\n",
        "    # DNS segment\n",
        "    if DNS in packet:\n",
        "        return True\n",
        "\n",
        "    return False"
      ],
      "execution_count": null,
      "outputs": []
    },
    {
      "cell_type": "code",
      "metadata": {
        "id": "idXFImZ_0kQZ"
      },
      "source": [
        "pcaps = 'deep_packet/Pcaps/NonVpn/'\n",
        "if not os.path.exists(os.path.dirname(pcaps)):\n",
        "   os.makedirs(os.path.dirname(pcaps))\n",
        "    # except OSError as exc: # Guard against race condition\n",
        "    #     if exc.errno != errno.EEXIST:\n",
        "    #         raise\n",
        "# os.makedirs(os.path.dirname(pcaps), exist_ok=True)"
      ],
      "execution_count": null,
      "outputs": []
    },
    {
      "cell_type": "code",
      "metadata": {
        "id": "rox5umDd113h"
      },
      "source": [
        "cache = 'deep_packet/Dataset/Nonvpn_dataset.pickle'\n",
        "if not os.path.exists(os.path.dirname(cache)):\n",
        "   os.makedirs(os.path.dirname(cache))\n",
        "# os.makedirs(os.path.dirname(cache), exist_ok=True)\n",
        "dataset = []"
      ],
      "execution_count": null,
      "outputs": []
    },
    {
      "cell_type": "code",
      "metadata": {
        "id": "9mYki2YpoOu8"
      },
      "source": [
        "if not os.path.isfile(cache):\n",
        "# if False:\n",
        "    for path in os.listdir(pcaps):\n",
        "        print('Processing ' + path)\n",
        "        for i, packet in enumerate(rdpcap(pcaps + path)):\n",
        "            arr = transform_packet(packet)\n",
        "            if arr is not None:\n",
        "                # get labels for app identification\n",
        "                prefix = path.split('.')[0].lower()\n",
        "                app_label = PREFIX_TO_APP_ID.get(prefix)\n",
        "                # traffic_label = PREFIX_TO_TRAFFIC_ID.get(prefix)\n",
        "                row = {\n",
        "                    'app_label': app_label,\n",
        "                    # 'traffic_label': traffic_label,\n",
        "                    'feature': arr.todense().tolist()[0]\n",
        "                }\n",
        "                dataset.append(row)\n",
        "    \n",
        "    with open(cache, 'wb') as f:\n",
        "        pickle.dump(dataset, f)\n",
        "else:\n",
        "    dataset = []\n",
        "    data_dir = 'drive/MyDrive/deep_packet/Dataset/'\n",
        "    for path in os.listdir(data_dir):\n",
        "        with open(data_dir + path, 'rb') as f:\n",
        "            dataset.extend(pickle.load(f))"
      ],
      "execution_count": null,
      "outputs": []
    },
    {
      "cell_type": "code",
      "metadata": {
        "colab": {
          "base_uri": "https://localhost:8080/"
        },
        "id": "SpAmFur90suU",
        "outputId": "81ba1f75-1c2a-436a-fffb-7b34e40a4d99"
      },
      "source": [
        "objects = []\n",
        "data_dir = 'drive/MyDrive/deep_packet/Dataset/'\n",
        "with (open(cache, \"rb\")) as openfile:\n",
        "    while True:\n",
        "        try:\n",
        "            objects.append(pickle.load(openfile))\n",
        "        except EOFError:\n",
        "            break\n",
        "        \n",
        "print(objects)"
      ],
      "execution_count": null,
      "outputs": [
        {
          "output_type": "stream",
          "text": [
            "IOPub data rate exceeded.\n",
            "The notebook server will temporarily stop sending output\n",
            "to the client in order to avoid crashing it.\n",
            "To change this limit, set the config variable\n",
            "`--NotebookApp.iopub_data_rate_limit`.\n",
            "\n",
            "Current values:\n",
            "NotebookApp.iopub_data_rate_limit=1000000.0 (bytes/sec)\n",
            "NotebookApp.rate_limit_window=3.0 (secs)\n",
            "\n"
          ],
          "name": "stderr"
        }
      ]
    }
  ]
}