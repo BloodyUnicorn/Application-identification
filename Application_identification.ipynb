{
  "nbformat": 4,
  "nbformat_minor": 0,
  "metadata": {
    "colab": {
      "name": "Application identification.ipynb",
      "provenance": [],
      "collapsed_sections": [],
      "mount_file_id": "119x08AFdBOJFva2h3Tpstw9YCH12bbX9",
      "authorship_tag": "ABX9TyP8rGzZUuJt33sJWuuw0ry0",
      "include_colab_link": true
    },
    "kernelspec": {
      "name": "python3",
      "display_name": "Python 3"
    },
    "language_info": {
      "name": "python"
    }
  },
  "cells": [
    {
      "cell_type": "markdown",
      "metadata": {
        "id": "view-in-github",
        "colab_type": "text"
      },
      "source": [
        "<a href=\"https://colab.research.google.com/github/BloodyUnicorn/Application-identification/blob/main/Application_identification.ipynb\" target=\"_parent\"><img src=\"https://colab.research.google.com/assets/colab-badge.svg\" alt=\"Open In Colab\"/></a>"
      ]
    },
    {
      "cell_type": "code",
      "metadata": {
        "id": "w_DUBMHZuVXh",
        "colab": {
          "base_uri": "https://localhost:8080/"
        },
        "outputId": "35694a01-47b3-4b08-ae8d-6a417a1a80b0"
      },
      "source": [
        "!pip install scapy"
      ],
      "execution_count": 1,
      "outputs": [
        {
          "output_type": "stream",
          "text": [
            "Collecting scapy\n",
            "  Downloading scapy-2.4.5.tar.gz (1.1 MB)\n",
            "\u001b[?25l\r\u001b[K     |▎                               | 10 kB 23.9 MB/s eta 0:00:01\r\u001b[K     |▋                               | 20 kB 31.0 MB/s eta 0:00:01\r\u001b[K     |▉                               | 30 kB 16.6 MB/s eta 0:00:01\r\u001b[K     |█▏                              | 40 kB 12.0 MB/s eta 0:00:01\r\u001b[K     |█▌                              | 51 kB 5.4 MB/s eta 0:00:01\r\u001b[K     |█▊                              | 61 kB 5.6 MB/s eta 0:00:01\r\u001b[K     |██                              | 71 kB 6.0 MB/s eta 0:00:01\r\u001b[K     |██▍                             | 81 kB 5.7 MB/s eta 0:00:01\r\u001b[K     |██▋                             | 92 kB 4.6 MB/s eta 0:00:01\r\u001b[K     |███                             | 102 kB 5.0 MB/s eta 0:00:01\r\u001b[K     |███▎                            | 112 kB 5.0 MB/s eta 0:00:01\r\u001b[K     |███▌                            | 122 kB 5.0 MB/s eta 0:00:01\r\u001b[K     |███▉                            | 133 kB 5.0 MB/s eta 0:00:01\r\u001b[K     |████▏                           | 143 kB 5.0 MB/s eta 0:00:01\r\u001b[K     |████▍                           | 153 kB 5.0 MB/s eta 0:00:01\r\u001b[K     |████▊                           | 163 kB 5.0 MB/s eta 0:00:01\r\u001b[K     |█████                           | 174 kB 5.0 MB/s eta 0:00:01\r\u001b[K     |█████▎                          | 184 kB 5.0 MB/s eta 0:00:01\r\u001b[K     |█████▋                          | 194 kB 5.0 MB/s eta 0:00:01\r\u001b[K     |██████                          | 204 kB 5.0 MB/s eta 0:00:01\r\u001b[K     |██████▏                         | 215 kB 5.0 MB/s eta 0:00:01\r\u001b[K     |██████▌                         | 225 kB 5.0 MB/s eta 0:00:01\r\u001b[K     |██████▉                         | 235 kB 5.0 MB/s eta 0:00:01\r\u001b[K     |███████                         | 245 kB 5.0 MB/s eta 0:00:01\r\u001b[K     |███████▍                        | 256 kB 5.0 MB/s eta 0:00:01\r\u001b[K     |███████▋                        | 266 kB 5.0 MB/s eta 0:00:01\r\u001b[K     |████████                        | 276 kB 5.0 MB/s eta 0:00:01\r\u001b[K     |████████▎                       | 286 kB 5.0 MB/s eta 0:00:01\r\u001b[K     |████████▌                       | 296 kB 5.0 MB/s eta 0:00:01\r\u001b[K     |████████▉                       | 307 kB 5.0 MB/s eta 0:00:01\r\u001b[K     |█████████▏                      | 317 kB 5.0 MB/s eta 0:00:01\r\u001b[K     |█████████▍                      | 327 kB 5.0 MB/s eta 0:00:01\r\u001b[K     |█████████▊                      | 337 kB 5.0 MB/s eta 0:00:01\r\u001b[K     |██████████                      | 348 kB 5.0 MB/s eta 0:00:01\r\u001b[K     |██████████▎                     | 358 kB 5.0 MB/s eta 0:00:01\r\u001b[K     |██████████▋                     | 368 kB 5.0 MB/s eta 0:00:01\r\u001b[K     |███████████                     | 378 kB 5.0 MB/s eta 0:00:01\r\u001b[K     |███████████▏                    | 389 kB 5.0 MB/s eta 0:00:01\r\u001b[K     |███████████▌                    | 399 kB 5.0 MB/s eta 0:00:01\r\u001b[K     |███████████▉                    | 409 kB 5.0 MB/s eta 0:00:01\r\u001b[K     |████████████                    | 419 kB 5.0 MB/s eta 0:00:01\r\u001b[K     |████████████▍                   | 430 kB 5.0 MB/s eta 0:00:01\r\u001b[K     |████████████▊                   | 440 kB 5.0 MB/s eta 0:00:01\r\u001b[K     |█████████████                   | 450 kB 5.0 MB/s eta 0:00:01\r\u001b[K     |█████████████▎                  | 460 kB 5.0 MB/s eta 0:00:01\r\u001b[K     |█████████████▋                  | 471 kB 5.0 MB/s eta 0:00:01\r\u001b[K     |█████████████▉                  | 481 kB 5.0 MB/s eta 0:00:01\r\u001b[K     |██████████████▏                 | 491 kB 5.0 MB/s eta 0:00:01\r\u001b[K     |██████████████▍                 | 501 kB 5.0 MB/s eta 0:00:01\r\u001b[K     |██████████████▊                 | 512 kB 5.0 MB/s eta 0:00:01\r\u001b[K     |███████████████                 | 522 kB 5.0 MB/s eta 0:00:01\r\u001b[K     |███████████████▎                | 532 kB 5.0 MB/s eta 0:00:01\r\u001b[K     |███████████████▋                | 542 kB 5.0 MB/s eta 0:00:01\r\u001b[K     |████████████████                | 552 kB 5.0 MB/s eta 0:00:01\r\u001b[K     |████████████████▏               | 563 kB 5.0 MB/s eta 0:00:01\r\u001b[K     |████████████████▌               | 573 kB 5.0 MB/s eta 0:00:01\r\u001b[K     |████████████████▉               | 583 kB 5.0 MB/s eta 0:00:01\r\u001b[K     |█████████████████               | 593 kB 5.0 MB/s eta 0:00:01\r\u001b[K     |█████████████████▍              | 604 kB 5.0 MB/s eta 0:00:01\r\u001b[K     |█████████████████▊              | 614 kB 5.0 MB/s eta 0:00:01\r\u001b[K     |██████████████████              | 624 kB 5.0 MB/s eta 0:00:01\r\u001b[K     |██████████████████▎             | 634 kB 5.0 MB/s eta 0:00:01\r\u001b[K     |██████████████████▋             | 645 kB 5.0 MB/s eta 0:00:01\r\u001b[K     |██████████████████▉             | 655 kB 5.0 MB/s eta 0:00:01\r\u001b[K     |███████████████████▏            | 665 kB 5.0 MB/s eta 0:00:01\r\u001b[K     |███████████████████▌            | 675 kB 5.0 MB/s eta 0:00:01\r\u001b[K     |███████████████████▊            | 686 kB 5.0 MB/s eta 0:00:01\r\u001b[K     |████████████████████            | 696 kB 5.0 MB/s eta 0:00:01\r\u001b[K     |████████████████████▍           | 706 kB 5.0 MB/s eta 0:00:01\r\u001b[K     |████████████████████▋           | 716 kB 5.0 MB/s eta 0:00:01\r\u001b[K     |█████████████████████           | 727 kB 5.0 MB/s eta 0:00:01\r\u001b[K     |█████████████████████▏          | 737 kB 5.0 MB/s eta 0:00:01\r\u001b[K     |█████████████████████▌          | 747 kB 5.0 MB/s eta 0:00:01\r\u001b[K     |█████████████████████▉          | 757 kB 5.0 MB/s eta 0:00:01\r\u001b[K     |██████████████████████          | 768 kB 5.0 MB/s eta 0:00:01\r\u001b[K     |██████████████████████▍         | 778 kB 5.0 MB/s eta 0:00:01\r\u001b[K     |██████████████████████▊         | 788 kB 5.0 MB/s eta 0:00:01\r\u001b[K     |███████████████████████         | 798 kB 5.0 MB/s eta 0:00:01\r\u001b[K     |███████████████████████▎        | 808 kB 5.0 MB/s eta 0:00:01\r\u001b[K     |███████████████████████▋        | 819 kB 5.0 MB/s eta 0:00:01\r\u001b[K     |███████████████████████▉        | 829 kB 5.0 MB/s eta 0:00:01\r\u001b[K     |████████████████████████▏       | 839 kB 5.0 MB/s eta 0:00:01\r\u001b[K     |████████████████████████▌       | 849 kB 5.0 MB/s eta 0:00:01\r\u001b[K     |████████████████████████▊       | 860 kB 5.0 MB/s eta 0:00:01\r\u001b[K     |█████████████████████████       | 870 kB 5.0 MB/s eta 0:00:01\r\u001b[K     |█████████████████████████▍      | 880 kB 5.0 MB/s eta 0:00:01\r\u001b[K     |█████████████████████████▋      | 890 kB 5.0 MB/s eta 0:00:01\r\u001b[K     |██████████████████████████      | 901 kB 5.0 MB/s eta 0:00:01\r\u001b[K     |██████████████████████████▎     | 911 kB 5.0 MB/s eta 0:00:01\r\u001b[K     |██████████████████████████▌     | 921 kB 5.0 MB/s eta 0:00:01\r\u001b[K     |██████████████████████████▉     | 931 kB 5.0 MB/s eta 0:00:01\r\u001b[K     |███████████████████████████▏    | 942 kB 5.0 MB/s eta 0:00:01\r\u001b[K     |███████████████████████████▍    | 952 kB 5.0 MB/s eta 0:00:01\r\u001b[K     |███████████████████████████▊    | 962 kB 5.0 MB/s eta 0:00:01\r\u001b[K     |████████████████████████████    | 972 kB 5.0 MB/s eta 0:00:01\r\u001b[K     |████████████████████████████▎   | 983 kB 5.0 MB/s eta 0:00:01\r\u001b[K     |████████████████████████████▋   | 993 kB 5.0 MB/s eta 0:00:01\r\u001b[K     |████████████████████████████▉   | 1.0 MB 5.0 MB/s eta 0:00:01\r\u001b[K     |█████████████████████████████▏  | 1.0 MB 5.0 MB/s eta 0:00:01\r\u001b[K     |█████████████████████████████▌  | 1.0 MB 5.0 MB/s eta 0:00:01\r\u001b[K     |█████████████████████████████▊  | 1.0 MB 5.0 MB/s eta 0:00:01\r\u001b[K     |██████████████████████████████  | 1.0 MB 5.0 MB/s eta 0:00:01\r\u001b[K     |██████████████████████████████▍ | 1.1 MB 5.0 MB/s eta 0:00:01\r\u001b[K     |██████████████████████████████▋ | 1.1 MB 5.0 MB/s eta 0:00:01\r\u001b[K     |███████████████████████████████ | 1.1 MB 5.0 MB/s eta 0:00:01\r\u001b[K     |███████████████████████████████▎| 1.1 MB 5.0 MB/s eta 0:00:01\r\u001b[K     |███████████████████████████████▌| 1.1 MB 5.0 MB/s eta 0:00:01\r\u001b[K     |███████████████████████████████▉| 1.1 MB 5.0 MB/s eta 0:00:01\r\u001b[K     |████████████████████████████████| 1.1 MB 5.0 MB/s \n",
            "\u001b[?25hBuilding wheels for collected packages: scapy\n",
            "  Building wheel for scapy (setup.py) ... \u001b[?25l\u001b[?25hdone\n",
            "  Created wheel for scapy: filename=scapy-2.4.5-py2.py3-none-any.whl size=1261554 sha256=b7efbf23ae5828d56ca2671c1cc5346206c229f93f180f090a72b7b19adb0ea5\n",
            "  Stored in directory: /root/.cache/pip/wheels/b9/6e/c0/0157e466a5e02d3ff28fc7587dff329b4a967a23b3f9b11385\n",
            "Successfully built scapy\n",
            "Installing collected packages: scapy\n",
            "Successfully installed scapy-2.4.5\n"
          ],
          "name": "stdout"
        }
      ]
    },
    {
      "cell_type": "code",
      "metadata": {
        "colab": {
          "base_uri": "https://localhost:8080/"
        },
        "id": "6FVOGPeeOnT5",
        "outputId": "c29c178b-2150-430e-8931-5cdcad1fd884"
      },
      "source": [
        "from pathlib import Path\n",
        "import os\n",
        "import os.path\n",
        "from google.colab import drive\n",
        "import numpy as np\n",
        "import pandas as pd\n",
        "from joblib import Parallel, delayed\n",
        "from scapy.compat import raw\n",
        "from scapy.layers.inet import IP, UDP\n",
        "from scapy.layers.l2 import Ether\n",
        "from scapy.packet import Padding\n",
        "from scapy.utils import rdpcap, PcapReader\n",
        "from scipy import sparse\n",
        "from sklearn.model_selection import train_test_split\n",
        "from imblearn.under_sampling import RandomUnderSampler\n",
        "\n",
        "import torch\n",
        "import torchvision\n",
        "import torchvision.transforms as transforms\n",
        "import torch.nn as nn\n",
        "import torch.nn.functional as F\n",
        "from random import sample\n",
        "import matplotlib.pyplot as plt\n",
        "import seaborn as sn\n",
        "import math\n",
        "\n",
        "from torch.utils.data import Dataset, DataLoader, random_split\n",
        "from torch.utils.data.sampler import SubsetRandomSampler\n",
        "\n",
        "import time\n",
        "from datetime import timedelta\n",
        "from datetime import datetime\n",
        "import pickle\n",
        "import random\n",
        "from prettytable import PrettyTable\n",
        "\n",
        "# import sys\n",
        "# sys.path.append('drive/MyDrive/deep_packet')"
      ],
      "execution_count": 2,
      "outputs": [
        {
          "output_type": "stream",
          "text": [
            "/usr/local/lib/python3.7/dist-packages/sklearn/externals/six.py:31: FutureWarning: The module is deprecated in version 0.21 and will be removed in version 0.23 since we've dropped support for Python 2.7. Please rely on the official version of six (https://pypi.org/project/six/).\n",
            "  \"(https://pypi.org/project/six/).\", FutureWarning)\n",
            "/usr/local/lib/python3.7/dist-packages/sklearn/utils/deprecation.py:144: FutureWarning: The sklearn.neighbors.base module is  deprecated in version 0.22 and will be removed in version 0.24. The corresponding classes / functions should instead be imported from sklearn.neighbors. Anything that cannot be imported from sklearn.neighbors is now part of the private API.\n",
            "  warnings.warn(message, FutureWarning)\n"
          ],
          "name": "stderr"
        }
      ]
    },
    {
      "cell_type": "markdown",
      "metadata": {
        "id": "8m7UbsUGAdts"
      },
      "source": [
        "## Preprocessing"
      ]
    },
    {
      "cell_type": "code",
      "metadata": {
        "id": "LK_9Y1h_vZvH",
        "colab": {
          "base_uri": "https://localhost:8080/"
        },
        "outputId": "5f3b5e48-3be2-4ced-d189-46f6c2c8762b"
      },
      "source": [
        "## Colab setting\n",
        "drive.mount('/content/gdrive')\n",
        "%cd gdrive/MyDrive/"
      ],
      "execution_count": 3,
      "outputs": [
        {
          "output_type": "stream",
          "text": [
            "Mounted at /content/gdrive\n",
            "/content/gdrive/MyDrive\n"
          ],
          "name": "stdout"
        }
      ]
    },
    {
      "cell_type": "code",
      "metadata": {
        "id": "hcBZoPxz7oix"
      },
      "source": [
        "def remove_ether_header(packet):\n",
        "    if Ether in packet:\n",
        "        return packet[Ether].payload\n",
        "\n",
        "    return packet\n",
        "\n",
        "\n",
        "def mask_ip(packet):\n",
        "    if IP in packet:\n",
        "        packet[IP].src = '0.0.0.0'\n",
        "        packet[IP].dst = '0.0.0.0'\n",
        "\n",
        "    return packet\n",
        "\n",
        "\n",
        "def pad_udp(packet):\n",
        "    if UDP in packet:\n",
        "        # get layers after udp\n",
        "        layer_after = packet[UDP].payload.copy()\n",
        "\n",
        "        # build a padding layer\n",
        "        pad = Padding()\n",
        "        pad.load = '\\x00' * 12\n",
        "\n",
        "        layer_before = packet.copy()\n",
        "        layer_before[UDP].remove_payload()\n",
        "        packet = layer_before / pad / layer_after\n",
        "\n",
        "        return packet\n",
        "\n",
        "    return packet\n",
        "\n",
        "\n",
        "def packet_to_sparse_array(packet, max_length=1500):\n",
        "    arr = np.frombuffer(raw(packet), dtype=np.uint8)[0: max_length]     # Divide to 255 later\n",
        "    if len(arr) < max_length:\n",
        "        pad_width = max_length - len(arr)\n",
        "        arr = np.pad(arr, pad_width=(0, pad_width), constant_values=0)\n",
        "\n",
        "    arr = sparse.csr_matrix(arr)\n",
        "    return arr\n",
        "\n",
        "\n",
        "def transform_packet(packet):\n",
        "    if should_omit_packet(packet):\n",
        "        return None\n",
        "\n",
        "    packet = remove_ether_header(packet)\n",
        "    packet = pad_udp(packet)\n",
        "    packet = mask_ip(packet)\n",
        "\n",
        "    arr = packet_to_sparse_array(packet)\n",
        "\n",
        "    return arr"
      ],
      "execution_count": 4,
      "outputs": []
    },
    {
      "cell_type": "code",
      "metadata": {
        "id": "dcObkTP151Y0"
      },
      "source": [
        "from pathlib import Path\n",
        "from scapy.layers.dns import DNS\n",
        "from scapy.layers.inet import TCP\n",
        "from scapy.packet import Padding\n",
        "from scapy.utils import rdpcap\n",
        "\n",
        "# for app identification\n",
        "PREFIX_TO_APP_ID = {\n",
        "    # AIM chat\n",
        "    'aim_chat_3a': 0,\n",
        "    'aim_chat_3b': 0,\n",
        "    'aimchat1': 0,\n",
        "    'aimchat2': 0,\n",
        "    # Email\n",
        "    'email1a': 1,\n",
        "    'email1b': 1,\n",
        "    'email2a': 1,\n",
        "    'email2b': 1,\n",
        "    # Facebook\n",
        "    'facebook_audio1a': 2,\n",
        "    'facebook_audio1b': 2,\n",
        "    'facebook_audio2a': 2,\n",
        "    'facebook_audio2b': 2,\n",
        "    'facebook_audio3': 2,\n",
        "    'facebook_audio4': 2,\n",
        "    'facebook_chat_4a': 2,\n",
        "    'facebook_chat_4b': 2,\n",
        "    'facebook_video1a': 2,\n",
        "    'facebook_video1b': 2,\n",
        "    'facebook_video2a': 2,\n",
        "    'facebook_video2b': 2,\n",
        "    'facebookchat1': 2,\n",
        "    'facebookchat2': 2,\n",
        "    'facebookchat3': 2,\n",
        "    # FTPS\n",
        "    'ftps_down_1a': 3,\n",
        "    'ftps_down_1b': 3,\n",
        "    'ftps_up_2a': 3,\n",
        "    'ftps_up_2b': 3,\n",
        "    # Gmail\n",
        "    'gmailchat1': 4,\n",
        "    'gmailchat2': 4,\n",
        "    'gmailchat3': 4,\n",
        "    # Hangouts\n",
        "    'hangout_chat_4b': 5,\n",
        "    'hangouts_audio1a': 5,\n",
        "    'hangouts_audio1b': 5,\n",
        "    'hangouts_audio2a': 5,\n",
        "    'hangouts_audio2b': 5,\n",
        "    'hangouts_audio3': 5,\n",
        "    'hangouts_audio4': 5,\n",
        "    'hangouts_chat_4a': 5,\n",
        "    'hangouts_video1b': 5,\n",
        "    'hangouts_video2a': 5,\n",
        "    'hangouts_video2b': 5,\n",
        "    # ICQ\n",
        "    'icq_chat_3a': 6,\n",
        "    'icq_chat_3b': 6,\n",
        "    'icqchat1': 6,\n",
        "    'icqchat2': 6,\n",
        "    # Netflix\n",
        "    'netflix1': 7,\n",
        "    'netflix2': 7,\n",
        "    'netflix3': 7,\n",
        "    'netflix4': 7,\n",
        "    # SCP\n",
        "    'scp1': 8,\n",
        "    'scpdown1': 8,\n",
        "    'scpdown2': 8,\n",
        "    'scpdown3': 8,\n",
        "    'scpdown4': 8,\n",
        "    'scpdown5': 8,\n",
        "    'scpdown6': 8,\n",
        "    'scpup1': 8,\n",
        "    'scpup2': 8,\n",
        "    'scpup3': 8,\n",
        "    'scpup5': 8,\n",
        "    'scpup6': 8,\n",
        "    # SFTP\n",
        "    'sftp1': 9,\n",
        "    'sftp_down_3a': 9,\n",
        "    'sftp_down_3b': 9,\n",
        "    'sftp_up_2a': 9,\n",
        "    'sftp_up_2b': 9,\n",
        "    'sftpdown1': 9,\n",
        "    'sftpdown2': 9,\n",
        "    'sftpup1': 9,\n",
        "    # Skype\n",
        "    'skype_audio1a': 10,\n",
        "    'skype_audio1b': 10,\n",
        "    'skype_audio2a': 10,\n",
        "    'skype_audio2b': 10,\n",
        "    'skype_audio3': 10,\n",
        "    'skype_audio4': 10,\n",
        "    'skype_chat1a': 10,\n",
        "    'skype_chat1b': 10,\n",
        "    'skype_file1': 10,\n",
        "    'skype_file2': 10,\n",
        "    'skype_file3': 10,\n",
        "    'skype_file4': 10,\n",
        "    'skype_file5': 10,\n",
        "    'skype_file6': 10,\n",
        "    'skype_file7': 10,\n",
        "    'skype_file8': 10,\n",
        "    'skype_video1a': 10,\n",
        "    'skype_video1b': 10,\n",
        "    'skype_video2a': 10,\n",
        "    'skype_video2b': 10,\n",
        "    # Spotify\n",
        "    'spotify1': 11,\n",
        "    'spotify2': 11,\n",
        "    'spotify3': 11,\n",
        "    'spotify4': 11,\n",
        "    # Torrent\n",
        "    'torrent01': 12,\n",
        "    # Tor\n",
        "    'torfacebook': 13,\n",
        "    'torgoogle': 13,\n",
        "    'tortwitter': 13,\n",
        "    'torvimeo1': 13,\n",
        "    'torvimeo2': 13,\n",
        "    'torvimeo3': 13,\n",
        "    'toryoutube1': 13,\n",
        "    'toryoutube2': 13,\n",
        "    'toryoutube3': 13,\n",
        "    # Vimeo\n",
        "    'vimeo1': 14,\n",
        "    'vimeo2': 14,\n",
        "    'vimeo3': 14,\n",
        "    'vimeo4': 14,\n",
        "    # Voipbuster\n",
        "    'voipbuster1b': 15,\n",
        "    'voipbuster2b': 15,\n",
        "    'voipbuster3b': 15,\n",
        "    'voipbuster_4a': 15,\n",
        "    'voipbuster_4b': 15,\n",
        "    # Youtube\n",
        "    'youtube1': 16,\n",
        "    'youtube2': 16,\n",
        "    'youtube3': 16,\n",
        "    'youtube4': 16,\n",
        "    'youtube5': 16,\n",
        "    'youtube6': 16,\n",
        "    'youtubehtml5_1': 16,\n",
        "}\n",
        "\n",
        "ID_TO_APP = {\n",
        "    0: 'AIM Chat',\n",
        "    1: 'Email',\n",
        "    2: 'Facebook',\n",
        "    3: 'FTPS',\n",
        "    4: 'Gmail',\n",
        "    5: 'Hangouts',\n",
        "    6: 'ICQ',\n",
        "    7: 'Netflix',\n",
        "    8: 'SCP',\n",
        "    9: 'SFTP',\n",
        "    10: 'Skype',\n",
        "    11: 'Spotify',\n",
        "    12: 'Torrent',\n",
        "    13: 'Tor',\n",
        "    14: 'Vimeo',\n",
        "    15: 'Voipbuster',\n",
        "    16: 'Youtube',\n",
        "}\n",
        "\n",
        "\n",
        "\n",
        "def read_pcap(path: Path):\n",
        "    packets = rdpcap(str(path))\n",
        "\n",
        "    return packets\n",
        "\n",
        "\n",
        "def should_omit_packet(packet):\n",
        "    # SYN, ACK or FIN flags set to 1 and no payload\n",
        "    if TCP in packet and (packet.flags & 0x13):\n",
        "        # not payload or contains only padding\n",
        "        layers = packet[TCP].payload.layers()\n",
        "        if not layers or (Padding in layers and len(layers) == 1):\n",
        "            return True\n",
        "\n",
        "    # DNS segment\n",
        "    if DNS in packet:\n",
        "        return True\n",
        "\n",
        "    return False"
      ],
      "execution_count": 5,
      "outputs": []
    },
    {
      "cell_type": "markdown",
      "metadata": {
        "id": "2ClKe3XeMfd6"
      },
      "source": [
        "## Create Dataset"
      ]
    },
    {
      "cell_type": "code",
      "metadata": {
        "id": "idXFImZ_0kQZ"
      },
      "source": [
        "pcaps = 'deep_packet/Pcaps/NonVpn/'\n",
        "if not os.path.exists(os.path.dirname(pcaps)):\n",
        "   os.makedirs(os.path.dirname(pcaps))\n",
        "    # except OSError as exc: # Guard against race condition\n",
        "    #     if exc.errno != errno.EEXIST:\n",
        "    #         raise\n",
        "# os.makedirs(os.path.dirname(pcaps), exist_ok=True)"
      ],
      "execution_count": 6,
      "outputs": []
    },
    {
      "cell_type": "code",
      "metadata": {
        "id": "rox5umDd113h"
      },
      "source": [
        "cache = 'deep_packet/Dataset/Nonvpn_dataset.pickle'\n",
        "if not os.path.exists(os.path.dirname(cache)):\n",
        "   os.makedirs(os.path.dirname(cache))\n",
        "# os.makedirs(os.path.dirname(cache), exist_ok=True)\n",
        "dataset = []"
      ],
      "execution_count": 7,
      "outputs": []
    },
    {
      "cell_type": "code",
      "metadata": {
        "id": "9mYki2YpoOu8",
        "colab": {
          "base_uri": "https://localhost:8080/"
        },
        "outputId": "b902c45a-8fc6-481b-a9a1-013e538c8209"
      },
      "source": [
        "if not os.path.isfile(cache):\n",
        "# if False:\n",
        "    for path in os.listdir(pcaps):\n",
        "        print('Processing ' + path)\n",
        "        for i, packet in enumerate(rdpcap(pcaps + path)):\n",
        "            arr = transform_packet(packet)\n",
        "            if arr is not None:\n",
        "                # get labels for app identification\n",
        "                prefix = path.split('.')[0].lower()\n",
        "                app_label = PREFIX_TO_APP_ID.get(prefix)\n",
        "                # traffic_label = PREFIX_TO_TRAFFIC_ID.get(prefix)\n",
        "                row = {\n",
        "                    'app_label': app_label,\n",
        "                    # 'traffic_label': traffic_label,\n",
        "                    'feature': arr.todense().tolist()[0]\n",
        "                }\n",
        "                dataset.append(row)\n",
        "    \n",
        "    with open(cache, 'wb') as f:\n",
        "        pickle.dump(dataset, f)\n",
        "else:\n",
        "    dataset = []\n",
        "    data_dir = 'drive/MyDrive/deep_packet/Dataset/'\n",
        "    # if not os.path.exists(os.path.dirname(data_dir)):\n",
        "    #   os.makedirs(os.path.dirname)\n",
        "    for path in os.listdir(data_dir):\n",
        "        with open(data_dir + path, 'rb') as f:\n",
        "            dataset.extend(pickle.load(f))"
      ],
      "execution_count": 8,
      "outputs": [
        {
          "output_type": "stream",
          "text": [
            "Processing aim_chat_3a.pcap\n",
            "Processing aim_chat_3b.pcap\n",
            "Processing email1a.pcap\n",
            "Processing email2b.pcap\n",
            "Processing email2a.pcap\n",
            "Processing email1b.pcap\n",
            "Processing facebook_chat_4a.pcap\n",
            "Processing AIMchat1.pcap\n",
            "Processing AIMchat2.pcap\n",
            "Processing facebookchat1.pcap\n",
            "Processing facebookchat2.pcap\n",
            "Processing facebookchat3.pcap\n"
          ],
          "name": "stdout"
        }
      ]
    },
    {
      "cell_type": "code",
      "metadata": {
        "id": "SpAmFur90suU"
      },
      "source": [
        "# from pprint import pprint\n",
        "# objects = []\n",
        "# data_dir = 'drive/MyDrive/deep_packet/Dataset/'\n",
        "# with (open(cache, \"rb\")) as openfile:\n",
        "#     while True:\n",
        "#         try:\n",
        "#             objects.append(pickle.load(openfile))\n",
        "#         except EOFError:\n",
        "#             break\n",
        "        \n",
        "# pprint(objects)"
      ],
      "execution_count": 9,
      "outputs": []
    },
    {
      "cell_type": "code",
      "metadata": {
        "id": "TCmHeI5-Mi9_"
      },
      "source": [
        "app_labels = [row['app_label'] for row in dataset]\n",
        "app_classes = set(app_labels)\n",
        "app_train_all, app_test_all = train_test_split(dataset, test_size=0.2, random_state=42, stratify=app_labels)\n",
        "\n",
        "del dataset"
      ],
      "execution_count": 10,
      "outputs": []
    },
    {
      "cell_type": "code",
      "metadata": {
        "colab": {
          "base_uri": "https://localhost:8080/"
        },
        "id": "jm72CRLPPiUX",
        "outputId": "f926cf2b-7ead-4a92-938d-7010bbf0fa9b"
      },
      "source": [
        "undersample = RandomUnderSampler(sampling_strategy='majority')\n",
        "app_features = [elem['feature'] for elem in app_train_all]\n",
        "train_app_labels = [elem['app_label'] for elem in app_train_all]\n",
        "app_train, app_y = undersample.fit_resample(app_features, train_app_labels)\n",
        "del app_features, train_app_labels, app_train_all"
      ],
      "execution_count": 11,
      "outputs": [
        {
          "output_type": "stream",
          "text": [
            "/usr/local/lib/python3.7/dist-packages/sklearn/utils/deprecation.py:87: FutureWarning: Function safe_indexing is deprecated; safe_indexing is deprecated in version 0.22 and will be removed in version 0.24.\n",
            "  warnings.warn(msg, category=FutureWarning)\n"
          ],
          "name": "stderr"
        }
      ]
    },
    {
      "cell_type": "code",
      "metadata": {
        "id": "_6EJZH1ISHQJ"
      },
      "source": [
        "app_train_final = [{'feature': torch.from_numpy(np.array([a/255.0 for a in f.tolist()], dtype=np.float32)), 'label': l} for f, l in zip(app_train, app_y)]\n",
        "del app_train, app_y\n",
        "app_test_final = [{'feature': torch.from_numpy(np.array([a/255.0 for a in elem['feature']], dtype=np.float32)), 'label': elem['app_label']} for elem in app_test_all]\n",
        "del app_test_all"
      ],
      "execution_count": 12,
      "outputs": []
    }
  ]
}